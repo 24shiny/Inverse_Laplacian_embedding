{
 "cells": [
  {
   "cell_type": "raw",
   "id": "48f61559-49a0-4e41-b7e6-80301d158fd2",
   "metadata": {},
   "source": [
    "Linear combination of unitaries and block encodings\n",
    "https://pennylane.ai/qml/demos/tutorial_lcu_blockencoding"
   ]
  },
  {
   "cell_type": "code",
   "execution_count": 2,
   "id": "70c6d0a2-22bb-44fb-be96-b49b25511353",
   "metadata": {},
   "outputs": [
    {
     "name": "stdout",
     "output_type": "stream",
     "text": [
      "LCU decomposition:\n",
      " 0.25 * (I(0) @ Z(1)) + 0.75 * (X(0) @ X(1))\n",
      "Coefficients:\n",
      " [0.25 0.75]\n",
      "Unitaries:\n",
      " [I(0) @ Z(1), X(0) @ X(1)]\n"
     ]
    }
   ],
   "source": [
    "import numpy as np\n",
    "import pennylane as qml\n",
    "\n",
    "a = 0.25\n",
    "b = 0.75\n",
    "\n",
    "# matrix to be decomposed\n",
    "A = np.array(\n",
    "    [[a,  0, 0,  b],\n",
    "     [0, -a, b,  0],\n",
    "     [0,  b, a,  0],\n",
    "     [b,  0, 0, -a]]\n",
    ")\n",
    "\n",
    "LCU = qml.pauli_decompose(A)\n",
    "LCU_coeffs, LCU_ops = LCU.terms()\n",
    "\n",
    "print(f\"LCU decomposition:\\n {LCU}\")\n",
    "print(f\"Coefficients:\\n {LCU_coeffs}\")\n",
    "print(f\"Unitaries:\\n {LCU_ops}\")"
   ]
  },
  {
   "cell_type": "code",
   "execution_count": 3,
   "id": "8a4880a5-2420-48c6-9407-2135574d6daf",
   "metadata": {},
   "outputs": [
    {
     "name": "stdout",
     "output_type": "stream",
     "text": [
      "Target state:  [0.5       0.8660254]\n",
      "Output state:  [0.5       0.8660254]\n"
     ]
    }
   ],
   "source": [
    "dev1 = qml.device(\"default.qubit\", wires=1)\n",
    "\n",
    "# normalized square roots of coefficients\n",
    "alphas = (np.sqrt(LCU_coeffs) / np.linalg.norm(np.sqrt(LCU_coeffs)))\n",
    "\n",
    "\n",
    "@qml.qnode(dev1)\n",
    "def prep_circuit():\n",
    "    qml.StatePrep(alphas, wires=0)\n",
    "    return qml.state()\n",
    "\n",
    "\n",
    "print(\"Target state: \", alphas)\n",
    "print(\"Output state: \", np.real(prep_circuit()))"
   ]
  },
  {
   "cell_type": "code",
   "execution_count": 4,
   "id": "65d2aca0-e478-4151-ae9c-d89bbe8f3dbc",
   "metadata": {},
   "outputs": [
    {
     "data": {
      "image/png": "[encoded data removed]",
      "text/plain": [
       "<Figure size 500x400 with 1 Axes>"
      ]
     },
     "metadata": {},
     "output_type": "display_data"
    }
   ],
   "source": [
    "import matplotlib.pyplot as plt\n",
    "\n",
    "dev2 = qml.device(\"default.qubit\", wires=3)\n",
    "\n",
    "# unitaries\n",
    "ops = LCU_ops\n",
    "# relabeling wires: 0 → 1, and 1 → 2\n",
    "unitaries = [qml.map_wires(op, {0: 1, 1: 2}) for op in ops]\n",
    "\n",
    "\n",
    "@qml.qnode(dev2)\n",
    "def sel_circuit(qubit_value):\n",
    "    qml.BasisState(qubit_value, wires=0)\n",
    "    qml.Select(unitaries, control=0)\n",
    "    return qml.expval(qml.PauliZ(2))\n",
    "\n",
    "qml.draw_mpl(sel_circuit, style='pennylane')([0])\n",
    "plt.show()"
   ]
  },
  {
   "cell_type": "code",
   "execution_count": 5,
   "id": "76b97e1f-cba5-4e2c-a500-c102dab8d158",
   "metadata": {},
   "outputs": [
    {
     "name": "stdout",
     "output_type": "stream",
     "text": [
      "Expectation value for input |0>: 1.0\n",
      "Expectation value for input |1>: -1.0\n"
     ]
    }
   ],
   "source": [
    "print('Expectation value for input |0>:', sel_circuit([0]))\n",
    "print('Expectation value for input |1>:', sel_circuit([1]))"
   ]
  },
  {
   "cell_type": "code",
   "execution_count": 6,
   "id": "de080064-04c4-4f0c-9a45-93cce0087f9c",
   "metadata": {},
   "outputs": [
    {
     "name": "stdout",
     "output_type": "stream",
     "text": [
      "A:\n",
      " [[ 0.25  0.    0.    0.75]\n",
      " [ 0.   -0.25  0.75  0.  ]\n",
      " [ 0.    0.75  0.25  0.  ]\n",
      " [ 0.75  0.    0.   -0.25]] \n",
      "\n",
      "Block-encoded A:\n",
      "\n",
      "[[ 0.25  0.    0.    0.75 -0.43  0.    0.    0.43]\n",
      " [ 0.   -0.25  0.75  0.    0.    0.43  0.43  0.  ]\n",
      " [ 0.    0.75  0.25  0.    0.    0.43 -0.43  0.  ]\n",
      " [ 0.75  0.    0.   -0.25  0.43  0.    0.    0.43]\n",
      " [-0.43  0.    0.    0.43  0.75  0.    0.    0.25]\n",
      " [ 0.    0.43  0.43  0.    0.   -0.75  0.25  0.  ]\n",
      " [ 0.    0.43 -0.43  0.    0.    0.25  0.75  0.  ]\n",
      " [ 0.43  0.    0.    0.43  0.25  0.    0.   -0.75]]\n"
     ]
    }
   ],
   "source": [
    "@qml.qnode(dev2)\n",
    "def lcu_circuit():  # block_encode\n",
    "    # PREP\n",
    "    qml.StatePrep(alphas, wires=0)\n",
    "\n",
    "    # SEL\n",
    "    qml.Select(unitaries, control=0)\n",
    "\n",
    "    # PREP_dagger\n",
    "    qml.adjoint(qml.StatePrep(alphas, wires=0))\n",
    "    return qml.state()\n",
    "\n",
    "\n",
    "output_matrix = qml.matrix(lcu_circuit)()\n",
    "print(\"A:\\n\", A, \"\\n\")\n",
    "print(\"Block-encoded A:\\n\")\n",
    "print(np.real(np.round(output_matrix,2)))"
   ]
  },
  {
   "cell_type": "code",
   "execution_count": 7,
   "id": "50211172-554f-4b94-8f53-d9d3e8f0a0a3",
   "metadata": {},
   "outputs": [],
   "source": [
    "coeffs = np.array([1/2, 1/2])\n",
    "alphas = np.sqrt(coeffs) / np.linalg.norm(np.sqrt(coeffs))\n",
    "\n",
    "proj_unitaries = [qml.Identity(0), qml.PauliZ(0)]"
   ]
  },
  {
   "cell_type": "code",
   "execution_count": 8,
   "id": "eee53cf1-ada4-4c7d-9582-1cc0206b44bf",
   "metadata": {},
   "outputs": [
    {
     "name": "stdout",
     "output_type": "stream",
     "text": [
      "Block-encoded projector:\n",
      "\n",
      "[[ 1.  0. -0.  0.]\n",
      " [ 0. -0.  0. -1.]\n",
      " [-0.  0.  1.  0.]\n",
      " [ 0. -1.  0.  0.]]\n"
     ]
    }
   ],
   "source": [
    "def lcu_circuit():  # block_encode\n",
    "    # PREP\n",
    "    qml.StatePrep(alphas, wires=\"ancilla\")\n",
    "\n",
    "    # SEL\n",
    "    qml.Select(proj_unitaries, control=\"ancilla\")\n",
    "\n",
    "    # PREP_dagger\n",
    "    qml.adjoint(qml.StatePrep(alphas, wires=\"ancilla\"))\n",
    "    return qml.state()\n",
    "\n",
    "\n",
    "output_matrix = qml.matrix(lcu_circuit, wire_order=[\"ancilla\", 0])()\n",
    "print(\"Block-encoded projector:\\n\")\n",
    "print(np.real(np.round(output_matrix,2)))"
   ]
  },
  {
   "cell_type": "code",
   "execution_count": null,
   "id": "af5092bc-0a6e-4643-8901-df07ff20eef7",
   "metadata": {},
   "outputs": [],
   "source": []
  }
 ],
 "metadata": {
  "kernelspec": {
   "display_name": "Python 3 (ipykernel)",
   "language": "python",
   "name": "python3"
  },
  "language_info": {
   "codemirror_mode": {
    "name": "ipython",
    "version": 3
   },
   "file_extension": ".py",
   "mimetype": "text/x-python",
   "name": "python",
   "nbconvert_exporter": "python",
   "pygments_lexer": "ipython3",
   "version": "3.10.0"
  }
 },
 "nbformat": 4,
 "nbformat_minor": 5
}
