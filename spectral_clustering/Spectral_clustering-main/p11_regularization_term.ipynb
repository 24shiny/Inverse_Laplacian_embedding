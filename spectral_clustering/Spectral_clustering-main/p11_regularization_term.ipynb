{
 "cells": [
  {
   "cell_type": "code",
   "execution_count": 2,
   "id": "f543eea0-fabf-4f81-8ff6-08ccb8fb16a4",
   "metadata": {},
   "outputs": [
    {
     "name": "stdout",
     "output_type": "stream",
     "text": [
      "singular matrix\n"
     ]
    }
   ],
   "source": [
    "import numpy as np\n",
    "A = [[1,2,-1],\n",
    "    [2,4,7],\n",
    "    [-2,-4,1]]\n",
    "try:\n",
    "    np.linalg.inv(A)\n",
    "except:\n",
    "    print('singular matrix')"
   ]
  },
  {
   "cell_type": "code",
   "execution_count": 5,
   "id": "628c75c0-67ee-457a-8980-c42ca5765be7",
   "metadata": {},
   "outputs": [
    {
     "data": {
      "text/plain": [
       "array([[0.1, 0. , 0. ],\n",
       "       [0. , 0.1, 0. ],\n",
       "       [0. , 0. , 0.1]])"
      ]
     },
     "execution_count": 5,
     "metadata": {},
     "output_type": "execute_result"
    }
   ],
   "source": [
    "np.diag(0.1*np.ones(3))"
   ]
  },
  {
   "cell_type": "code",
   "execution_count": 11,
   "id": "7fcc0758-3008-4db3-9ff3-1a0bcbd131f8",
   "metadata": {},
   "outputs": [
    {
     "name": "stdout",
     "output_type": "stream",
     "text": [
      "16 - singular matrix\n",
      "17 - singular matrix\n",
      "18 - singular matrix\n",
      "19 - singular matrix\n",
      "20 - singular matrix\n"
     ]
    }
   ],
   "source": [
    "for i in range(1,21,1):\n",
    "    A_perturbed = A + np.diag(np.power(0.1,i)*np.ones(3))\n",
    "    try:\n",
    "        np.linalg.inv(A_perturbed)\n",
    "    except:\n",
    "        print(f'{i} - singular matrix')"
   ]
  },
  {
   "cell_type": "code",
   "execution_count": null,
   "id": "e1e7f52c-2490-4be3-81e8-c78432f22d61",
   "metadata": {},
   "outputs": [],
   "source": []
  }
 ],
 "metadata": {
  "kernelspec": {
   "display_name": "Python 3 (ipykernel)",
   "language": "python",
   "name": "python3"
  },
  "language_info": {
   "codemirror_mode": {
    "name": "ipython",
    "version": 3
   },
   "file_extension": ".py",
   "mimetype": "text/x-python",
   "name": "python",
   "nbconvert_exporter": "python",
   "pygments_lexer": "ipython3",
   "version": "3.10.0"
  }
 },
 "nbformat": 4,
 "nbformat_minor": 5
}
