{
 "cells": [
  {
   "cell_type": "raw",
   "id": "3eb92b64-a1cd-4fde-92e7-c48b044e4573",
   "metadata": {},
   "source": [
    "import pennylane as qml\n",
    "import numpy as np\n",
    "import matplotlib.pyplot as plt\n",
    "import pandas as pd\n",
    "from sklearn.preprocessing import normalize"
   ]
  },
  {
   "cell_type": "raw",
   "id": "f309a968-d398-4bfb-b005-0eec8eceea77",
   "metadata": {},
   "source": [
    "1 qubit"
   ]
  },
  {
   "cell_type": "code",
   "execution_count": 206,
   "id": "062e5cef-cd0b-45ea-a127-7f41bb71e90d",
   "metadata": {},
   "outputs": [
    {
     "name": "stdout",
     "output_type": "stream",
     "text": [
      "[0.5 0.5]\n"
     ]
    },
    {
     "data": {
      "image/png": "[encoded data removed]",
      "text/plain": [
       "<Figure size 500x300 with 1 Axes>"
      ]
     },
     "metadata": {},
     "output_type": "display_data"
    }
   ],
   "source": [
    "# calculate rotation angle\n",
    "def rotAngle(p):\n",
    "    return -1j/2*np.log(p[0]/p[1])\n",
    "\n",
    "rotAngle(p)\n",
    "\n",
    "dev = qml.device('default.qubit', wires=2)\n",
    "\n",
    "base = [[0], [1]]\n",
    "coeff = [1,1]\n",
    "\n",
    "@qml.qnode(dev)\n",
    "def circuit(base, coeff):\n",
    "    # coefficient normalization\n",
    "    coeff = np.array(coeff).reshape(1, -1)\n",
    "    coeff = normalize(coeff, norm='l2').flatten()\n",
    "    qml.Superposition(coeff, base, wires=0, work_wire=1)\n",
    "    return qml.probs(0)\n",
    "\n",
    "p = circuit(base, coeff)\n",
    "\n",
    "dev = qml.device('default.qubit', wires=2)\n",
    "\n",
    "@qml.qnode(dev)\n",
    "def circuit(base, coeff, p):\n",
    "    # coefficient normalization\n",
    "    coeff = np.array(coeff).reshape(1, -1)\n",
    "    coeff = normalize(coeff, norm='l2').flatten()\n",
    "    qml.Superposition(coeff, base, wires=0, work_wire=1)\n",
    "    \n",
    "    # rotation\n",
    "    qml.RZ(rotAngle(p), wires=0)\n",
    "    return qml.probs(0)\n",
    "\n",
    "print(circuit(base, coeff, p))\n",
    "\n",
    "qml.draw_mpl(circuit, style=\"pennylane\", show_all_wires=True)([[0], [1]], [1, 3], p)\n",
    "plt.show()"
   ]
  },
  {
   "cell_type": "code",
   "execution_count": null,
   "id": "6e4767f3-1f7e-4a83-95cc-1f985582c801",
   "metadata": {},
   "outputs": [],
   "source": [
    "# calculate rotation angle\n",
    "def rotAngle(p):\n",
    "    return -1j/2*np.log(p[0]/p[1])\n",
    "\n",
    "rotAngle(p)\n",
    "\n",
    "dev = qml.device('default.qubit', wires=2)\n",
    "\n",
    "base = [[0], [1]]\n",
    "coeff = [1,1]\n",
    "\n",
    "@qml.qnode(dev)\n",
    "def circuit(base, coeff):\n",
    "    # coefficient normalization\n",
    "    coeff = np.array(coeff).reshape(1, -1)\n",
    "    coeff = normalize(coeff, norm='l2').flatten()\n",
    "    qml.Superposition(coeff, base, wires=0, work_wire=1)\n",
    "    return qml.probs(0)\n",
    "\n",
    "p = circuit(base, coeff)\n",
    "\n",
    "dev = qml.device('default.qubit', wires=2)\n",
    "\n",
    "@qml.qnode(dev)\n",
    "def circuit(base, coeff, p):\n",
    "    # coefficient normalization\n",
    "    coeff = np.array(coeff).reshape(1, -1)\n",
    "    coeff = normalize(coeff, norm='l2').flatten()\n",
    "    qml.Superposition(coeff, base, wires=0, work_wire=1)\n",
    "    \n",
    "    # rotation\n",
    "    qml.RZ(rotAngle(p), wires=0)\n",
    "    return qml.probs(0)\n",
    "\n",
    "print(circuit(base, coeff, p))\n",
    "\n",
    "qml.draw_mpl(circuit, style=\"pennylane\", show_all_wires=True)([[0], [1]], [1, 3], p)\n",
    "plt.show()"
   ]
  },
  {
   "cell_type": "code",
   "execution_count": 183,
   "id": "7324a8ff-6c98-44bb-b1e9-f928f46fd5c8",
   "metadata": {},
   "outputs": [
    {
     "name": "stdout",
     "output_type": "stream",
     "text": [
      "0.9999999999999999\n"
     ]
    },
    {
     "data": {
      "text/plain": [
       "array([0.04545455, 0.18181818, 0.72727273, 0.04545455])"
      ]
     },
     "execution_count": 183,
     "metadata": {},
     "output_type": "execute_result"
    }
   ],
   "source": [
    "base = [[0,0], [0,1], [1,0], [1,1]]\n",
    "coeff = [1,2,4,1]\n",
    "\n",
    "dev = qml.device('default.qubit', wires=3)\n",
    "\n",
    "@qml.qnode(dev)\n",
    "def circuit(base, coeff):\n",
    "    # coefficient normalization\n",
    "    coeff = np.array(coeff).reshape(1, -1)\n",
    "    coeff = normalize(coeff, norm='l2').flatten()\n",
    "    print(np.linalg.norm(coeff))\n",
    "    qml.Superposition(coeff, base, wires=[0, 1], work_wire=2)\n",
    "\n",
    "    # rotation\n",
    "    # qml.RZ(rotAngle(p), wires=0)\n",
    "    return qml.probs([0,1])\n",
    "\n",
    "p = circuit(base, coeff)\n",
    "p"
   ]
  },
  {
   "cell_type": "code",
   "execution_count": 164,
   "id": "cfd94d88-ad7a-4a74-9c55-5b2d061340d5",
   "metadata": {},
   "outputs": [
    {
     "data": {
      "text/plain": [
       "[1.3862943611198906j, 0.6931471805599452j]"
      ]
     },
     "execution_count": 164,
     "metadata": {},
     "output_type": "execute_result"
    }
   ],
   "source": [
    "# calculate rotation angle\n",
    "# def rotAngle_2d(p):\n",
    "#     # p = np.concatenate([p0, p1])\n",
    "#     c1 = np.log(p[0])+np.log(p[3])\n",
    "#     c2 = np.log(p[1])-np.log(p[2])\n",
    "#     return [(c1+c2)/4j, (c1-c2)/4j]\n",
    "\n",
    "# rotAngle_2d(p)\n",
    "\n",
    "def rotAngle_2d(p):\n",
    "    c1 = (np.log(p[0]) - np.log(p[2])) / 2j\n",
    "    c2 = (np.log(p[0]) - np.log(p[1])) / 2j\n",
    "    # c1 = np.arccos(np.square(p[0]/p[2]))\n",
    "    # c2 = np.arccos(np.square(p[0]/p[1]))\n",
    "    return [c1, c2]\n",
    "\n",
    "rotAngle_2d(p)"
   ]
  },
  {
   "cell_type": "code",
   "execution_count": 195,
   "id": "bbeadd01-1c29-404f-b4c1-4029b8ad87a7",
   "metadata": {},
   "outputs": [
    {
     "data": {
      "text/plain": [
       "(array([1.  , 0.25]), array([1.  , 0.25]), array([0.8 , 0.2 , 0.2 , 0.05]))"
      ]
     },
     "execution_count": 195,
     "metadata": {},
     "output_type": "execute_result"
    }
   ],
   "source": [
    "base = [[0,0], [0,1], [1,0], [1,1]]\n",
    "coeff = [1,1,2,2]\n",
    "\n",
    "dev = qml.device('default.qubit', wires=3)\n",
    "\n",
    "@qml.qnode(dev)\n",
    "def circuit(base, coeff, p):\n",
    "    # coefficient normalization\n",
    "    coeff = np.array(coeff).reshape(1, -1)\n",
    "    coeff = normalize(coeff, norm='l2').flatten()\n",
    "    qml.Superposition(coeff, base, wires=[0, 1], work_wire=2)\n",
    "    \n",
    "    # rotation\n",
    "    qml.RZ(p[0], wires=0)\n",
    "    qml.RZ(p[1], wires=1)\n",
    "    \n",
    "    return qml.probs(0), qml.probs(1), qml.probs([0,1])\n",
    "\n",
    "circuit(base, coeff, rotAngle_2d(p))"
   ]
  },
  {
   "cell_type": "code",
   "execution_count": 191,
   "id": "963cef03-f0c5-451b-80c5-ef64bb9fe92d",
   "metadata": {},
   "outputs": [
    {
     "data": {
      "text/plain": [
       "0.72727272"
      ]
     },
     "execution_count": 191,
     "metadata": {},
     "output_type": "execute_result"
    }
   ],
   "source": [
    "a = np.ones(4) * 0.36363636\n",
    "np.linalg.norm(a)"
   ]
  },
  {
   "cell_type": "code",
   "execution_count": 175,
   "id": "d1215041-ccb5-4f08-a5b8-cae6747a09b0",
   "metadata": {},
   "outputs": [
    {
     "data": {
      "text/plain": [
       "0.6298622848955828"
      ]
     },
     "execution_count": 175,
     "metadata": {},
     "output_type": "execute_result"
    }
   ],
   "source": [
    "a = circuit(base, coeff, rotAngle_2d(p))[2]\n",
    "np.linalg.norm(a)"
   ]
  },
  {
   "cell_type": "code",
   "execution_count": 143,
   "id": "8ca538b6-d195-481d-b2c0-010dda836bc2",
   "metadata": {},
   "outputs": [
    {
     "name": "stdout",
     "output_type": "stream",
     "text": [
      "0.9999999999999999\n"
     ]
    },
    {
     "data": {
      "image/png": "[encoded data removed]",
      "text/plain": [
       "<Figure size 500x400 with 1 Axes>"
      ]
     },
     "metadata": {},
     "output_type": "display_data"
    }
   ],
   "source": [
    "qml.draw_mpl(circuit, style=\"pennylane\", show_all_wires=True)(base, coeff, p)\n",
    "plt.show()"
   ]
  },
  {
   "cell_type": "code",
   "execution_count": 182,
   "id": "f4b5b852-4b7e-44eb-b3a9-da5de2006de5",
   "metadata": {},
   "outputs": [
    {
     "data": {
      "text/plain": [
       "[1.3862943611198906j, -0.3465735902799727j, -1.0397207708399179j]"
      ]
     },
     "execution_count": 182,
     "metadata": {},
     "output_type": "execute_result"
    }
   ],
   "source": [
    "def rotAngle_2d_shift(p):\n",
    "    c1 = (np.log(p[0]) - np.log(p[2])) / 2j\n",
    "    c2 = ((np.log(p[0]) - np.log(p[1]))+(np.log(p[2]) - np.log(p[3])))/ 4j\n",
    "    c3 = ((np.log(p[2]) - np.log(p[3]))+(np.log(p[1]) - np.log(p[0])))/ 4j\n",
    "    # c1 = np.arccos(np.square(p[0]/p[2]))\n",
    "    # c2 = np.arccos(np.square(p[0]/p[1]))\n",
    "    return [c1, c2, c3]\n",
    "\n",
    "rotAngle_2d_shift(p)"
   ]
  },
  {
   "cell_type": "code",
   "execution_count": 184,
   "id": "5588d194-b4b5-468a-9eff-ef4a84abf9e9",
   "metadata": {},
   "outputs": [
    {
     "data": {
      "text/plain": [
       "(array([8.3567165 , 0.25712974]),\n",
       " array([0.25712974, 8.3567165 ]),\n",
       " array([0.12856487, 8.22815164, 0.12856487, 0.12856487]))"
      ]
     },
     "execution_count": 184,
     "metadata": {},
     "output_type": "execute_result"
    }
   ],
   "source": [
    "dev = qml.device('default.qubit', wires=3)\n",
    "\n",
    "@qml.qnode(dev)\n",
    "def circuit(base, coeff, p):\n",
    "    # coefficient normalization\n",
    "    coeff = np.array(coeff).reshape(1, -1)\n",
    "    coeff = normalize(coeff, norm='l2').flatten()\n",
    "    qml.Superposition(coeff, base, wires=[0, 1], work_wire=2)\n",
    "    \n",
    "    # rotation\n",
    "    qml.RZ(p[0], wires=0)\n",
    "    qml.RZ(p[1], wires=1)\n",
    "\n",
    "    # phase shift\n",
    "    qml.PhaseShift(p[2], wires=1)\n",
    "    \n",
    "    return qml.probs(0), qml.probs(1), qml.probs([0,1])\n",
    "\n",
    "circuit(base, coeff, rotAngle_2d_shift(p))"
   ]
  },
  {
   "cell_type": "code",
   "execution_count": 185,
   "id": "3d3f7d0a-68ee-4f30-9828-c36e447039b5",
   "metadata": {},
   "outputs": [
    {
     "data": {
      "image/png": "[encoded data removed]",
      "text/plain": [
       "<Figure size 600x400 with 1 Axes>"
      ]
     },
     "metadata": {},
     "output_type": "display_data"
    }
   ],
   "source": [
    "qml.draw_mpl(circuit, style=\"pennylane\", show_all_wires=True)(base, coeff, p)\n",
    "plt.show()"
   ]
  },
  {
   "cell_type": "code",
   "execution_count": null,
   "id": "398eddd9-31b1-432f-be01-03fe8bc81f30",
   "metadata": {},
   "outputs": [],
   "source": []
  }
 ],
 "metadata": {
  "kernelspec": {
   "display_name": "Python 3 (ipykernel)",
   "language": "python",
   "name": "python3"
  },
  "language_info": {
   "codemirror_mode": {
    "name": "ipython",
    "version": 3
   },
   "file_extension": ".py",
   "mimetype": "text/x-python",
   "name": "python",
   "nbconvert_exporter": "python",
   "pygments_lexer": "ipython3",
   "version": "3.10.0"
  }
 },
 "nbformat": 4,
 "nbformat_minor": 5
}
