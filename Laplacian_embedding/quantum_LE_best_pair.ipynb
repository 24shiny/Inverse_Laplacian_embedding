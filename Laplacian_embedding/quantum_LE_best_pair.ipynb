{
 "cells": [
  {
   "cell_type": "code",
   "execution_count": 14,
   "id": "a02e7617-409a-4c7c-a557-b76b55d31a9b",
   "metadata": {},
   "outputs": [],
   "source": [
    "import numpy as np\n",
    "import pandas as pd\n",
    "import math\n",
    "import matplotlib.pyplot as plt\n",
    "import seaborn as sns\n",
    "from sklearn import datasets\n",
    "from sklearn.metrics import pairwise_distances\n",
    "from scipy.linalg import eigh\n",
    "import pennylane as qml\n",
    "from itertools import product\n",
    "from scipy.linalg import expm\n",
    "from itertools import combinations as cb\n",
    "from sklearn.metrics import silhouette_score as ss\n",
    "from sklearn.metrics import adjusted_rand_score as ars\n",
    "from sklearn.cluster import KMeans"
   ]
  },
  {
   "cell_type": "code",
   "execution_count": 4,
   "id": "292d9aca-a659-4907-ab0e-a040031ff9ff",
   "metadata": {},
   "outputs": [
    {
     "data": {
      "image/png": "[encoded data removed]",
      "text/plain": [
       "<Figure size 640x480 with 1 Axes>"
      ]
     },
     "metadata": {},
     "output_type": "display_data"
    }
   ],
   "source": [
    "# data\n",
    "X, Y = datasets.make_blobs(n_samples=16, centers=4, random_state=42)\n",
    "plt.scatter(X[:, 0], X[:, 1], c=Y, cmap='viridis', s=30, alpha=0.8)\n",
    "plt.xlabel('Feature 1')\n",
    "plt.ylabel('Feature 2')\n",
    "plt.show()"
   ]
  },
  {
   "cell_type": "code",
   "execution_count": 5,
   "id": "8312d725-599b-4e3b-be30-cd42e24ef1be",
   "metadata": {},
   "outputs": [],
   "source": [
    "# adj matrix\n",
    "A = np.exp(-pairwise_distances(X, metric='euclidean'))"
   ]
  },
  {
   "cell_type": "code",
   "execution_count": 6,
   "id": "a5b0c92d-ff73-432a-9025-716253054bf9",
   "metadata": {},
   "outputs": [],
   "source": [
    "D = np.diag(np.sum(A, axis=1))\n",
    "L = D - A\n",
    "L_inv = np.linalg.inv(L + np.eye(L.shape[0]) * 1e-6)\n",
    "L_inv_norm = L_inv / np.linalg.norm(L_inv)"
   ]
  },
  {
   "cell_type": "raw",
   "id": "948fba81-aad1-42a1-8b37-e49aeff1d4b2",
   "metadata": {},
   "source": [
    "# check if a matrix is Hermitian\n",
    "def check_hermitain(A):\n",
    "    return np.allclose(A, A.conj().T)\n",
    "\n",
    "def check_unitary(A):\n",
    "    I = np.eye(A.shape[0])\n",
    "    return np.allclose(A.conj().T @ A, I) and np.allclose(A @ A.conj().T, I)\n",
    "\n",
    "print(\"hermitian : \", check_hermitain(L), check_hermitain(L_inv), check_hermitain(L_inv_norm))\n",
    "print(\"unitary : \", check_unitary(L), check_unitary(L_inv), check_unitary(L_inv_norm))\n",
    "print(\"unitary : \", check_unitary(expm(-1j*L)), check_unitary(expm(-1j*L_inv)), check_unitary(expm(-1j*L_inv_norm)))"
   ]
  },
  {
   "cell_type": "code",
   "execution_count": 7,
   "id": "e8b1390f-4db1-4db7-b4ba-e117d1ce76b1",
   "metadata": {},
   "outputs": [],
   "source": [
    "def check_divisibility(a, b):\n",
    "    if a % b == 0:\n",
    "        return 1\n",
    "    else:\n",
    "        return 0\n",
    "\n",
    "def lcu(A):\n",
    "    LCU = qml.pauli_decompose(A)\n",
    "    coeff, op = LCU.terms()\n",
    "    N = int(np.power(2,np.floor(math.log2(len(coeff)))))\n",
    "    if check_divisibility(len(coeff), N) == 0:\n",
    "        coeff, op = lcu_reduction(coeff, op, N) # variables replaced\n",
    "    coeff_sqrt = np.sqrt([abs(i) for i in coeff])\n",
    "    norm_coeff = coeff_sqrt / np.linalg.norm(coeff_sqrt)\n",
    "    return norm_coeff, op\n",
    "\n",
    "def lcu_reduction(coeff, op, N): # extract N top terms\n",
    "    coeff = coeff[1:] # exclude the first terms\n",
    "    op = op[1:]\n",
    "    idx = np.argsort(coeff)[-N:][::-1]\n",
    "    coeff_red = [coeff[i] for i in idx]\n",
    "    op_red = [op[i] for i in idx]\n",
    "    return coeff_red, op_red\n",
    "    \n",
    "def init_config(A, coeff):\n",
    "    n_control = int(np.floor(math.log2(len(coeff))))\n",
    "    n_target = int(math.log2(A.shape[0]))\n",
    "    return n_control, n_target\n",
    "\n",
    "def get_basis_state(n_qubits):\n",
    "    return [list(state) for state in product([0, 1], repeat=n_qubits)]\n",
    "\n",
    "def init_state(iter_num, input_coeff, n_target):\n",
    "    if iter_num==0:\n",
    "        for i in reg['target']:\n",
    "            qml.Hadamard(i)\n",
    "    else:\n",
    "        base = get_basis_state(n_target)\n",
    "        qml.Superposition(input_coeff, base, reg['target'], work_wire=reg['super_work'])\n",
    "\n",
    "def block_encoding(coeff, op):\n",
    "    qml.StatePrep(coeff, wires=reg['control'])\n",
    "    qml.Select(op, control=reg['control'])\n",
    "    qml.adjoint(qml.StatePrep(coeff, wires=reg['control']))\n",
    "\n",
    "def zero_projector(n_qubits, measured_wires, outcomes):\n",
    "    return [\n",
    "        i for i in range(2 ** n_qubits)\n",
    "        if all(format(i, f'0{n_qubits}b')[wire] == str(outcome) \n",
    "               for wire, outcome in zip(measured_wires, outcomes))]\n",
    "\n",
    "def get_next_vec(vec, reg):\n",
    "    proj_idx = zero_projector(n_tot, measured_wires=reg.tolist(), outcomes=np.zeros(len(reg), dtype=int).tolist())\n",
    "    proj = np.array([vec[i] for i in proj_idx]) # project onto |0> in the control qubit\n",
    "    proj = proj[0::2] # effectively remove the auxiliary qubit\n",
    "    proj_norm_coeff = np.linalg.norm(proj)\n",
    "    proj_norm = proj / proj_norm_coeff\n",
    "    # iter_num +=1\n",
    "    return proj_norm_coeff, np.real(proj), np.real(proj_norm)\n",
    "\n",
    "def update_circuit_config(def_A):\n",
    "    global A, coeff, op, n_control, n_target, n_tot, scaling_factor, dev, reg, op\n",
    "    A = def_A\n",
    "    coeff, op = lcu(A)\n",
    "    n_control, n_target = init_config(A, coeff)\n",
    "    n_tot = wires=n_control+n_target+1\n",
    "    scaling_factor = sum(abs(coeff))\n",
    "    dev = qml.device(\"default.qubit\", n_tot) \n",
    "    reg = qml.registers({\"control\": n_control, \"target\": n_target, \"super_work\":1}) \n",
    "    op = [qml.map_wires(op_elem, {i: i + n_control for i in range(n_target)}) for op_elem in op]"
   ]
  },
  {
   "cell_type": "code",
   "execution_count": 8,
   "id": "579c844e-2b6f-46ef-a5aa-c49c1fe94c58",
   "metadata": {},
   "outputs": [],
   "source": [
    "A = coeff = op = n_control = n_target = n_tot = scaling_factor = dev = reg = op = 0\n",
    "update_circuit_config(L_inv_norm)\n",
    "@qml.qnode(dev)\n",
    "def power_circuit(A, iter_num, coeff, op, input_coeff, n_target):\n",
    "    init_state(iter_num, input_coeff, n_target)\n",
    "    block_encoding(coeff, op)\n",
    "    return qml.expval(qml.Hermitian(A, wires=reg['target'])), qml.state()"
   ]
  },
  {
   "cell_type": "code",
   "execution_count": 9,
   "id": "544e7942-0181-4e80-b7fc-439e97cdfc94",
   "metadata": {},
   "outputs": [],
   "source": [
    "def power_method(A, num_iter=20, tol=1e-5):\n",
    "    iter_num = 0\n",
    "    input_coeff = 0\n",
    "    proj_norm_coeffs = []\n",
    "    vals = []\n",
    "    vecs = []\n",
    "\n",
    "    while iter_num < num_iter:\n",
    "        val, vec = power_circuit(A, iter_num, coeff, op, input_coeff, n_target)\n",
    "        proj_norm_coeff, proj, proj_norm = get_next_vec(vec, reg['control'])\n",
    "\n",
    "        if iter_num != 1:\n",
    "            proj_norm_coeffs.append(proj_norm_coeff)\n",
    "\n",
    "        vec = np.prod(proj_norm_coeffs) * proj\n",
    "        vecs.append(vec)\n",
    "        val = (vec.T @ (A @ vec)) / (vec.T @ vec)\n",
    "        vals.append(val)\n",
    "\n",
    "        # stopping criteria\n",
    "        if iter_num > 0 and abs(vals[-1] - vals[-2]) < tol:\n",
    "            print(f\"program stops at {iter_num} iteration\")\n",
    "            break\n",
    " \n",
    "        # updates for the next iteration\n",
    "        iter_num += 1\n",
    "        input_coeff = proj_norm\n",
    "\n",
    "    return vals[-1], vecs[-1]"
   ]
  },
  {
   "cell_type": "code",
   "execution_count": 10,
   "id": "536560c1-17a1-4671-8357-9a7077f053ce",
   "metadata": {},
   "outputs": [
    {
     "name": "stdout",
     "output_type": "stream",
     "text": [
      "program stops at 1 iteration\n",
      "program stops at 2 iteration\n",
      "program stops at 2 iteration\n",
      "program stops at 3 iteration\n"
     ]
    }
   ],
   "source": [
    "def deflate(A, eig_val, eig_vec):\n",
    "    return A - eig_val * qml.math.outer(eig_vec, qml.math.conj(eig_vec))\n",
    "\n",
    "# def_val = []\n",
    "def_vec = []\n",
    "def_mat = A\n",
    "\n",
    "num_eig_pair = 4 # bear in mind that the first pair lacks the ability to group data\n",
    "\n",
    "for i in range(num_eig_pair):  \n",
    "    eig_val, eig_vec = power_method(def_mat)\n",
    "    # def_val.append(eig_val)\n",
    "    def_vec.append(eig_vec)\n",
    "    def_mat = deflate(def_mat, eig_val, eig_vec)\n",
    "    update_circuit_config(def_mat)"
   ]
  },
  {
   "cell_type": "raw",
   "id": "8b2886fd-1d82-4255-9611-ffb46a10beaf",
   "metadata": {},
   "source": [
    "def core_routine(X, Y, num_clusters=4):\n",
    "    # matrices\n",
    "    A = np.exp(-pairwise_distances(X, metric='euclidean'))\n",
    "    D = np.diag(np.sum(A, axis=1))\n",
    "    L = D - A\n",
    "    L_inv = np.linalg.inv(L + np.eye(L.shape[0]) * 1e-6)\n",
    "    L_inv_norm = L_inv / np.linalg.norm(L_inv)\n",
    "\n",
    "    # power and deflation methods\n",
    "    def_val = []\n",
    "    def_vec = []\n",
    "    def_mat = L_inv\n",
    "    \n",
    "    num_eig_pair = num_clusters # bear in mind that the first pair lacks the ability to group data\n",
    "    \n",
    "    for i in range(num_eig_pair):  \n",
    "        eig_val, eig_vec = power_method(def_mat)\n",
    "        def_val.append(eig_val)\n",
    "        def_vec.append(eig_vec)\n",
    "        def_mat = deflate(def_mat, eig_val, eig_vec)\n",
    "\n",
    "    return def_vec\n",
    "\n",
    "def_vec = core_routine(X, Y, num_clusters=4) # this takes much longer time"
   ]
  },
  {
   "cell_type": "code",
   "execution_count": 11,
   "id": "004453b6-d702-496c-ad63-d20ce9888932",
   "metadata": {},
   "outputs": [
    {
     "name": "stdout",
     "output_type": "stream",
     "text": [
      "0.22445517301671059\n",
      "0.12167061868040327\n",
      "0.10305315323497367\n",
      "0.062128430354231795\n"
     ]
    }
   ],
   "source": [
    "for i in def_vec:\n",
    "    print(i[0])"
   ]
  },
  {
   "cell_type": "code",
   "execution_count": 22,
   "id": "1cb9a91d-05e1-4673-b732-d437bed760d1",
   "metadata": {},
   "outputs": [],
   "source": [
    "def get_score(X, Y, method): # ss or ard\n",
    "    km = KMeans(n_clusters=4, random_state=42).fit(X)\n",
    "    label_predicted = km.fit_predict(X)\n",
    "    if method=='ss':\n",
    "        return ss(X, label_predicted)\n",
    "    elif method=='ars':\n",
    "        return ars(Y, label_predicted)\n",
    "\n",
    "def get_best_le(def_vec, Y, method):\n",
    "    elem = range(len(def_vec))\n",
    "    all_cb = list(cb(elem,2))\n",
    "    temp_score = []\n",
    "    for pair in all_cb:\n",
    "        temp_data = np.stack((def_vec[pair[0]], def_vec[pair[1]]), axis=1)\n",
    "        temp_score.append(get_score(X=temp_data, Y=Y, method=method))\n",
    "    best_idx = np.argmax(temp_score)\n",
    "    return all_cb[best_idx], np.round(temp_score[best_idx],3)\n",
    "\n",
    "def get_best_plot(def_vec, Y, best_pair, best_score, method):\n",
    "    i = best_pair[0]\n",
    "    j = best_pair[1]\n",
    "    plt.scatter(def_vec[i], def_vec[j], c=Y, cmap='viridis', s=30, alpha=0.8)\n",
    "    plt.title(f'{method} score {best_score}')\n",
    "    plt.show()"
   ]
  },
  {
   "cell_type": "code",
   "execution_count": 23,
   "id": "7e1dd090-b1ae-4b29-ba53-2a3d46689493",
   "metadata": {},
   "outputs": [
    {
     "data": {
      "image/png": "[encoded data removed]",
      "text/plain": [
       "<Figure size 640x480 with 1 Axes>"
      ]
     },
     "metadata": {},
     "output_type": "display_data"
    }
   ],
   "source": [
    "score_list = []\n",
    "method = 'ars' # or ss\n",
    "best_pair, best_score = get_best_le(def_vec, Y, method)\n",
    "score_list.append(best_score)\n",
    "get_best_plot(def_vec, Y, best_pair, best_score, method)"
   ]
  },
  {
   "cell_type": "code",
   "execution_count": null,
   "id": "44a34c9c-1ce9-4129-a3eb-05ca0674fe71",
   "metadata": {},
   "outputs": [],
   "source": []
  }
 ],
 "metadata": {
  "kernelspec": {
   "display_name": "Python 3 (ipykernel)",
   "language": "python",
   "name": "python3"
  },
  "language_info": {
   "codemirror_mode": {
    "name": "ipython",
    "version": 3
   },
   "file_extension": ".py",
   "mimetype": "text/x-python",
   "name": "python",
   "nbconvert_exporter": "python",
   "pygments_lexer": "ipython3",
   "version": "3.10.0"
  }
 },
 "nbformat": 4,
 "nbformat_minor": 5
}
