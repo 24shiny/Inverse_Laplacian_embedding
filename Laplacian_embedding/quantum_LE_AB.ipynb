{
 "cells": [
  {
   "cell_type": "code",
   "execution_count": 1,
   "id": "a02e7617-409a-4c7c-a557-b76b55d31a9b",
   "metadata": {},
   "outputs": [],
   "source": [
    "import numpy as np\n",
    "import math\n",
    "import pandas as pd\n",
    "import matplotlib.pyplot as plt\n",
    "import seaborn as sns\n",
    "from sklearn import datasets\n",
    "from sklearn.preprocessing import normalize\n",
    "from sklearn.metrics import pairwise_distances\n",
    "from scipy.linalg import eigh\n",
    "import pennylane as qml\n",
    "from scipy.linalg import expm\n",
    "from itertools import product"
   ]
  },
  {
   "cell_type": "code",
   "execution_count": 28,
   "id": "a5b0c92d-ff73-432a-9025-716253054bf9",
   "metadata": {},
   "outputs": [
    {
     "data": {
      "image/png": "[encoded data removed]",
      "text/plain": [
       "<Figure size 640x480 with 1 Axes>"
      ]
     },
     "metadata": {},
     "output_type": "display_data"
    }
   ],
   "source": [
    "# data generation\n",
    "X, Y = datasets.make_blobs(n_samples=16, centers=4, random_state=42)\n",
    "plt.scatter(X[:, 0], X[:, 1], c=Y, cmap='viridis', s=30, alpha=0.8)\n",
    "plt.xlabel('Feature 1')\n",
    "plt.ylabel('Feature 2')\n",
    "plt.show()\n",
    "\n",
    "# matrices\n",
    "A = np.exp(-pairwise_distances(X, metric='euclidean'))\n",
    "D = np.diag(np.sum(A, axis=1))\n",
    "L = D - A\n",
    "L_inv = np.linalg.inv(L + np.eye(L.shape[0]) * 1e-6)\n",
    "L_inv_norm = L_inv / np.linalg.norm(L_inv)"
   ]
  },
  {
   "cell_type": "code",
   "execution_count": 29,
   "id": "a42fbaf5-a3f4-45cc-8b7f-723257882fca",
   "metadata": {},
   "outputs": [
    {
     "name": "stdout",
     "output_type": "stream",
     "text": [
      "hermitian :  True True True\n",
      "unitary :  False False False\n",
      "unitary :  True True True\n"
     ]
    }
   ],
   "source": [
    "# check if a matrix is Hermitian\n",
    "def check_hermitain(A):\n",
    "    return np.allclose(A, A.conj().T)\n",
    "\n",
    "def check_unitary(A):\n",
    "    I = np.eye(A.shape[0])\n",
    "    return np.allclose(A.conj().T @ A, I) and np.allclose(A @ A.conj().T, I)\n",
    "\n",
    "print(\"hermitian : \", check_hermitain(L), check_hermitain(L_inv), check_hermitain(L_inv_norm))\n",
    "print(\"unitary : \", check_unitary(L), check_unitary(L_inv), check_unitary(L_inv_norm))\n",
    "print(\"unitary : \", check_unitary(expm(-1j*L)), check_unitary(expm(-1j*L_inv)), check_unitary(expm(-1j*L_inv_norm)))"
   ]
  },
  {
   "cell_type": "code",
   "execution_count": 52,
   "id": "e8b1390f-4db1-4db7-b4ba-e117d1ce76b1",
   "metadata": {},
   "outputs": [],
   "source": [
    "def check_divisibility(a, b):\n",
    "    if a % b == 0:\n",
    "        return 1\n",
    "    else:\n",
    "        return 0\n",
    "\n",
    "def lcu(A):\n",
    "    LCU = qml.pauli_decompose(A)\n",
    "    coeff_A, op_A = LCU.terms()\n",
    "    print(\"# of original terms :\", len(coeff_A))\n",
    "    N = int(np.power(2,np.floor(math.log2(len(coeff_A)))))\n",
    "    if check_divisibility(len(coeff_A), N) == 0:\n",
    "        coeff_A, op_A = lcu_reduction(coeff_A, op_A, N) # variables replaced\n",
    "    coeff_A_sqrt = np.sqrt([abs(i) for i in coeff_A])\n",
    "    norm_coeff_A = coeff_A_sqrt / np.linalg.norm(coeff_A_sqrt)\n",
    "    return norm_coeff_A, op_A\n",
    "\n",
    "def lcu_reduction(coeff_A, op_A, N): # extract N top_A terms\n",
    "    coeff_A = coeff_A[1:] # exclude the first terms\n",
    "    op_A = op_A[1:]\n",
    "    idx = np.argsort(coeff_A)[-N:][::-1]\n",
    "    coeff_A_red = [coeff_A[i] for i in idx]\n",
    "    op_A_red = [op_A[i] for i in idx]\n",
    "    return coeff_A_red, op_A_red\n",
    "    \n",
    "def init_config(A, coeff_A):\n",
    "    n_control_A = int(np.floor(math.log2(len(coeff_A))))\n",
    "    n_target_A = int(math.log2(A.shape[0]))\n",
    "    return n_control_A, n_target_A\n",
    "\n",
    "def get_basis_state(n_qubits):\n",
    "    return [list(state) for state in product([0, 1], repeat=n_qubits)]\n",
    "\n",
    "def init_state(iter_num, input_coeff_A, n_target_A):\n",
    "    if iter_num==0:\n",
    "        for i in reg_A['target']:\n",
    "            qml.Hadamard(i)\n",
    "    else:\n",
    "        base = get_basis_state(n_target_A)\n",
    "        qml.Superposition(input_coeff_A, base, reg_A['target'], work_wire=reg_A['super_work'])\n",
    "\n",
    "def block_encoding(coeff_A, op_A):\n",
    "    qml.StatePrep(coeff_A, wires=reg_A['control'])\n",
    "    qml.Select(op_A, control=reg_A['control'])\n",
    "    qml.adjoint(qml.StatePrep(coeff_A, wires=reg_A['control']))\n",
    "\n",
    "def block_encoding_list(coeff_A, op_A):\n",
    "    return [qml.StatePrep(coeff_A, wires=reg_A['control']), qml.Select(op_A, control=reg_A['control']), qml.adjoint(qml.StatePrep(coeff_A, wires=reg_A['control']))]\n",
    "    \n",
    "def zero_projector(n_qubits, measured_wires, outcomes):\n",
    "    return [\n",
    "        i for i in range(2 ** n_qubits)\n",
    "        if all(format(i, f'0{n_qubits}b')[wire] == str(outcome) \n",
    "               for wire, outcome in zip(measured_wires, outcomes))]\n",
    "\n",
    "def get_next_vec(vec, reg_A):\n",
    "    proj_idx = zero_projector(n_tot_A, measured_wires=reg_A.tolist(), outcomes=np.zeros(len(reg_A), dtype=int).tolist())\n",
    "    proj = np.array([vec[i] for i in proj_idx]) # project onto |0> in the control qubit\n",
    "    proj = proj[0::2] # effectively remove the auxiliary qubit\n",
    "    proj_norm_coeff_A = np.linalg.norm(proj)\n",
    "    proj_norm = proj / proj_norm_coeff_A\n",
    "    # iter_num +=1\n",
    "    return proj_norm_coeff_A, np.real(proj), np.real(proj_norm)\n",
    "\n",
    "def update_circuit_config(def_A):\n",
    "    global A, coeff_A, op_A, n_control_A, n_target_A, n_tot_A, scaling_factor_A, dev_A, reg_A\n",
    "    A = def_A\n",
    "    coeff_A, op_A = lcu(A)\n",
    "    print(len(coeff_A))\n",
    "    n_control_A, n_target_A = init_config(A, coeff_A)\n",
    "    n_tot_A = n_control_A+n_target_A+1\n",
    "    scaling_factor_A = sum(abs(coeff_A))\n",
    "    dev_A = qml.device(\"default.qubit\", n_tot_A) \n",
    "    reg_A = qml.registers({\"control\": n_control_A, \"target\": n_target_A, \"super_work\":1}) \n",
    "    op_A = [qml.map_wires(op_A_elem, {i: i + n_control_A for i in range(n_target_A)}) for op_A_elem in op_A]"
   ]
  },
  {
   "cell_type": "code",
   "execution_count": 31,
   "id": "579c844e-2b6f-46ef-a5aa-c49c1fe94c58",
   "metadata": {},
   "outputs": [
    {
     "name": "stdout",
     "output_type": "stream",
     "text": [
      "# of original terms : 136\n",
      "128\n"
     ]
    }
   ],
   "source": [
    "A = coeff_A = op_A = n_control_A = n_target_A = n_tot_A = scaling_factor_A = dev_A = reg_A = 0\n",
    "update_circuit_config(L_inv_norm)\n",
    "@qml.qnode(dev_A)\n",
    "def power_circuit(A, iter_num, coeff_A, op_A, input_coeff_A, n_target_A):\n",
    "    init_state(iter_num, input_coeff_A, n_target_A)\n",
    "    block_encoding(coeff_A, op_A)\n",
    "    return qml.expval(qml.Hermitian(A, wires=reg_A['target'])), qml.state()"
   ]
  },
  {
   "cell_type": "code",
   "execution_count": 45,
   "id": "544e7942-0181-4e80-b7fc-439e97cdfc94",
   "metadata": {},
   "outputs": [],
   "source": [
    "def power_method(A, num_iter=20, tol=1e-4):\n",
    "    iter_num = 0\n",
    "    input_coeff_A = 0\n",
    "    proj_norm_coeff_As = []\n",
    "    vals = []\n",
    "    vecs = []\n",
    "\n",
    "    while iter_num < num_iter:\n",
    "        val, vec = power_circuit(A, iter_num, coeff_A, op_A, input_coeff_A, n_target_A)\n",
    "        proj_norm_coeff_A, proj, proj_norm = get_next_vec(vec, reg_A['control'])\n",
    "\n",
    "        if iter_num != 1:\n",
    "            proj_norm_coeff_As.append(proj_norm_coeff_A)\n",
    "\n",
    "        vec = np.prod(proj_norm_coeff_As) * proj\n",
    "        vecs.append(vec)\n",
    "        val = (vec.T @ (A @ vec)) / (vec.T @ vec)\n",
    "        vals.append(val)\n",
    "\n",
    "        # stop_Aping criteria\n",
    "        if iter_num > 0 and abs(vals[-1] - vals[-2]) < tol:\n",
    "            print(f\"program stops at {iter_num}th iteration\")\n",
    "            break\n",
    " \n",
    "        # updates for the next iteration\n",
    "        iter_num += 1\n",
    "        input_coeff_A = proj_norm\n",
    "\n",
    "    return vals[-1], vecs[-1]"
   ]
  },
  {
   "cell_type": "code",
   "execution_count": 57,
   "id": "91214ac9-f079-40e5-8e03-02ddcaea17f0",
   "metadata": {},
   "outputs": [
    {
     "name": "stdout",
     "output_type": "stream",
     "text": [
      "# of original terms : 136\n"
     ]
    }
   ],
   "source": [
    "def get_eigspace(val,vec):\n",
    "    return val*np.outer(vec,vec)\n",
    "\n",
    "def update_circuit_config_AB(def_A, def_B):\n",
    "    global A, coeff_A, op_A, n_control_A, n_target_A, n_tot_A, scaling_factor_A, dev_A, reg_A\n",
    "    global B, coeff_B, op_B, n_control_AB, n_target_AB, n_tot_AB, scaling_factor_B, dev_AB, reg_AB\n",
    "\n",
    "    B = def_B\n",
    "    coeff_B, op_B = lcu(B)\n",
    "\n",
    "    # compare the number of terms and choose a smaller one\n",
    "    # n_control_A, n_target_A = init_config(A, coeff)\n",
    "    n_control_B, n_target_B = init_config(B, coeff_B)\n",
    "    n_control_AB = min(n_control_A, n_control_B)\n",
    "    n_target_AB = min(n_target_A, n_target_B)\n",
    "    n_tot_AB = n_control_AB+n_target_AB+1\n",
    "    \n",
    "    # scaling_factor_A = sum(abs(coeff_A))\n",
    "    scaling_factor_B = sum(abs(coeff_B))\n",
    "    \n",
    "    dev_AB = qml.device(\"default.qubit\", n_tot_AB) \n",
    "    reg_AB = qml.registers({\"control\": n_control_AB, \"target\": n_target_AB, \"sub_aux\":1})\n",
    "    op_A = [qml.map_wires(op_elem, {i: i + n_control_AB for i in range(n_target_AB)}) for op_elem in op_A]\n",
    "    op_B = [qml.map_wires(op_elem, {i: i + n_control_AB for i in range(n_target_AB)}) for op_elem in op_B]\n",
    "\n",
    "coeff_B = op_B = n_control_AB = n_target_AB = n_tot_AB = scaling_factor_B = dev_AB = reg_AB = 0\n",
    "B = A # to define circuit; updated later\n",
    "update_circuit_config_AB(A, B)\n",
    "@qml.qnode(dev_AB)\n",
    "def deflation_circuit(A, B, coeff_A, op_A, coeff_B, op_B):\n",
    "    # init_state(iter_num, input_coeff, n_target)\n",
    "    qml.Hadamard(reg_AB['sub_aux'])\n",
    "    for be_elem in block_encoding_list(coeff_A, op_A):\n",
    "        qml.ctrl(be_elem, control=reg_AB['sub_aux'], control_values='0')\n",
    "    for be_elem in block_encoding_list(coeff_B, op_B):\n",
    "        qml.ctrl(be_elem, control=reg_AB['sub_aux'], control_values='1')\n",
    "    qml.Hadamard(reg_AB['sub_aux'])\n",
    "    return qml.state()"
   ]
  },
  {
   "cell_type": "code",
   "execution_count": 84,
   "id": "cf9ef009-21d8-46ac-b3be-aed9aaa3a010",
   "metadata": {},
   "outputs": [
    {
     "name": "stdout",
     "output_type": "stream",
     "text": [
      "program stops at 1th iteration\n",
      "# of original terms : 135\n"
     ]
    }
   ],
   "source": [
    "def_vec = []\n",
    "def_mat = A\n",
    "\n",
    "num_eig_pair = 1 # bear in mind that the first pair lacks the ability to group data\n",
    "\n",
    "for i in range(num_eig_pair):\n",
    "    global A, B, coeff_A, op_A, coeff_B, op_B\n",
    "    eig_val, eig_vec = power_method(def_mat)\n",
    "    def_vec.append(eig_vec)\n",
    "    B = get_eigspace(eig_val, eig_vec)\n",
    "    update_circuit_config_AB(A, B)\n",
    "    # def_mat = deflation()\n",
    "    # def_mat = deflate(def_mat, eig_val, eig_vec)\n",
    "    # update_circuit_config_A(def_mat)"
   ]
  },
  {
   "cell_type": "code",
   "execution_count": 90,
   "id": "87201601-8f76-4e0b-ac22-e3c1e4fbeb5a",
   "metadata": {},
   "outputs": [
    {
     "data": {
      "text/plain": [
       "(16, 16)"
      ]
     },
     "execution_count": 90,
     "metadata": {},
     "output_type": "execute_result"
    }
   ],
   "source": [
    "pd.DataFrame(A-B).shape"
   ]
  },
  {
   "cell_type": "code",
   "execution_count": 86,
   "id": "10b0cce2-ed6a-4c9d-be3b-385d6e2cefcd",
   "metadata": {},
   "outputs": [],
   "source": [
    "state = deflation_circuit(A, B, coeff_A, op_A, coeff_B, op_B)"
   ]
  },
  {
   "cell_type": "code",
   "execution_count": 87,
   "id": "79c95299-3aea-4e4a-aaa9-762265f225f3",
   "metadata": {},
   "outputs": [
    {
     "data": {
      "text/plain": [
       "(2048,)"
      ]
     },
     "execution_count": 87,
     "metadata": {},
     "output_type": "execute_result"
    }
   ],
   "source": [
    "# post-processing on the state from deflation_circuit\n",
    "def one_projector_aux(state, n_tot_AB):\n",
    "    selected_idx = [i for i in range(len(state)) if format(i, f'0{n_tot_AB}b')[-1] == '1']\n",
    "    state = state[selected_idx]\n",
    "    return state / np.linalg.norm(state)\n",
    "\n",
    "state_aux_removed = one_projector_aux(state, n_tot_AB)\n",
    "state_aux_removed.shape"
   ]
  },
  {
   "cell_type": "code",
   "execution_count": 88,
   "id": "673bd40c-4fda-4dc2-8010-082d7bdf7457",
   "metadata": {},
   "outputs": [
    {
     "data": {
      "text/plain": [
       "(32,)"
      ]
     },
     "execution_count": 88,
     "metadata": {},
     "output_type": "execute_result"
    }
   ],
   "source": [
    "vec_AB = one_projector_aux(state, n_tot_AB)\n",
    "proj_idx_AB = zero_projector(n_tot_AB, measured_wires=reg_AB['control'].tolist(), outcomes=np.zeros(len(reg_AB['control']), dtype=int).tolist())\n",
    "proj_AB = np.array([vec_AB[i] for i in proj_idx_AB]) # project onto |0> in the control qubit\n",
    "proj_norm_coeff_AB = np.linalg.norm(proj_AB)\n",
    "proj_norm_AB = proj_AB / proj_norm_coeff_AB\n",
    "proj_norm_AB.shape"
   ]
  },
  {
   "cell_type": "code",
   "execution_count": null,
   "id": "e2557b6a-7aa2-4cca-8280-cdb2d008922f",
   "metadata": {},
   "outputs": [],
   "source": []
  },
  {
   "cell_type": "code",
   "execution_count": null,
   "id": "004453b6-d702-496c-ad63-d20ce9888932",
   "metadata": {},
   "outputs": [],
   "source": [
    "for i in def_vec:\n",
    "    print(i[0])"
   ]
  },
  {
   "cell_type": "code",
   "execution_count": null,
   "id": "d22ee1ef-5851-4e0d-8e68-36e2e9eab290",
   "metadata": {},
   "outputs": [],
   "source": [
    "fig, axs = plt.subplots(1, 3, figsize=(15, 5))\n",
    "axs[0].scatter(np.zeros(len(def_vec[1])), def_vec[1], c=Y, cmap='viridis', s=30, alpha=0.8)\n",
    "axs[0].set_title('2nd eigenvector')\n",
    "\n",
    "axs[1].scatter(np.zeros(len(def_vec[2])), def_vec[2], c=Y, cmap='viridis', s=30, alpha=0.8)\n",
    "axs[1].set_title('3rd eigenvector')\n",
    "\n",
    "axs[2].scatter(np.zeros(len(def_vec[3])), def_vec[3], c=Y, cmap='viridis', s=30, alpha=0.8)\n",
    "axs[2].set_title('4th eigenvector')\n",
    "\n",
    "fig.suptitle('Data embedded on LE')\n",
    "plt.tight_layout()\n",
    "plt.show()"
   ]
  },
  {
   "cell_type": "code",
   "execution_count": null,
   "id": "c8090fe5-d02e-4fe7-9b91-9ec079d74b36",
   "metadata": {},
   "outputs": [],
   "source": [
    "fig, axs = plt.subplots(1, 3, figsize=(15, 5))\n",
    "axs[0].scatter(def_vec[1], def_vec[2], c=Y, cmap='viridis', s=30, alpha=0.8)\n",
    "axs[1].scatter(def_vec[1], def_vec[3], c=Y, cmap='viridis', s=30, alpha=0.8)\n",
    "axs[2].scatter(def_vec[2], def_vec[3], c=Y, cmap='viridis', s=30, alpha=0.8)\n",
    "\n",
    "fig.suptitle('Data embedded on LE')\n",
    "plt.tight_layout()\n",
    "plt.show()"
   ]
  },
  {
   "cell_type": "code",
   "execution_count": null,
   "id": "8b817e23-37bf-4a0a-8e77-664db718205d",
   "metadata": {},
   "outputs": [],
   "source": []
  }
 ],
 "metadata": {
  "kernelspec": {
   "display_name": "Python 3 (ipykernel)",
   "language": "python",
   "name": "python3"
  },
  "language_info": {
   "codemirror_mode": {
    "name": "ipython",
    "version": 3
   },
   "file_extension": ".py",
   "mimetype": "text/x-python",
   "name": "python",
   "nbconvert_exporter": "python",
   "pygments_lexer": "ipython3",
   "version": "3.10.0"
  }
 },
 "nbformat": 4,
 "nbformat_minor": 5
}
