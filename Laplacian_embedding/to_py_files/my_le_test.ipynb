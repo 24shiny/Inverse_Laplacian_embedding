{
 "cells": [
  {
   "cell_type": "code",
   "execution_count": null,
   "id": "a54de467-2151-4d05-b823-d19a51e84ac0",
   "metadata": {},
   "outputs": [],
   "source": [
    "from my_le_17 import My_LE\n",
    "\n",
    "if __name__==\"__main__\":\n",
    "    data = My_LE()"
   ]
  },
  {
   "cell_type": "code",
   "execution_count": null,
   "id": "45749895-6cd2-47eb-bf4d-d17524da1c00",
   "metadata": {},
   "outputs": [],
   "source": [
    "from sklearn import datasets\n",
    "X, Y = datasets.make_circles(n_samples=256, factor=0.4, noise=0.05, random_state=42)\n",
    "data.get_data(X, n_centers=2)\n",
    "data.get_label(Y)\n",
    "data.plot_example_data()\n",
    "data.embed_data()"
   ]
  },
  {
   "cell_type": "code",
   "execution_count": null,
   "id": "3ad57eef-7078-4b70-8884-664b49af3ffe",
   "metadata": {},
   "outputs": [],
   "source": []
  }
 ],
 "metadata": {
  "kernelspec": {
   "display_name": "Python 3 (ipykernel)",
   "language": "python",
   "name": "python3"
  },
  "language_info": {
   "codemirror_mode": {
    "name": "ipython",
    "version": 3
   },
   "file_extension": ".py",
   "mimetype": "text/x-python",
   "name": "python",
   "nbconvert_exporter": "python",
   "pygments_lexer": "ipython3",
   "version": "3.10.0"
  }
 },
 "nbformat": 4,
 "nbformat_minor": 5
}
