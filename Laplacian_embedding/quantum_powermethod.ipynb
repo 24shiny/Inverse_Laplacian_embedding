{
 "cells": [
  {
   "cell_type": "code",
   "execution_count": 3,
   "id": "5e6c58d2-6b71-42e6-9161-1a42ea04b023",
   "metadata": {},
   "outputs": [],
   "source": [
    "import numpy as np\n",
    "import pennylane as qml\n",
    "import matplotlib.pyplot as plt\n",
    "import seaborn as sns\n",
    "from scipy.linalg import eigh\n",
    "import pandas as pd\n",
    "from itertools import product\n",
    "import math\n",
    "from scipy.linalg import eigh"
   ]
  },
  {
   "cell_type": "code",
   "execution_count": 6,
   "id": "47ec4fb3-83a5-4ee0-acf0-b3d93c0e9709",
   "metadata": {},
   "outputs": [
    {
     "name": "stdout",
     "output_type": "stream",
     "text": [
      "eigenvalues :  [-0.79056942 -0.79056942  0.79056942  0.79056942]\n",
      "eigenvectors : \n",
      " [[ 0.58471028  0.          0.81124219  0.        ]\n",
      " [ 0.         -0.81124219  0.          0.58471028]\n",
      " [ 0.          0.58471028  0.          0.81124219]\n",
      " [-0.81124219  0.          0.58471028  0.        ]]\n"
     ]
    }
   ],
   "source": [
    "# example matrix from PennyLane\n",
    "a = 0.25\n",
    "b = 0.75\n",
    "\n",
    "A = np.array(\n",
    "    [[a,  0, 0,  b],\n",
    "     [0, -a, b,  0],\n",
    "     [0,  b, a,  0],\n",
    "     [b,  0, 0, -a]])\n",
    "\n",
    "val, vec = eigh(A)\n",
    "print('eigenvalues : ', val)\n",
    "print('eigenvectors : \\n', vec)"
   ]
  },
  {
   "cell_type": "code",
   "execution_count": 56,
   "id": "3fd7f77e-0e63-439b-8366-acb2c6bb5f8d",
   "metadata": {},
   "outputs": [],
   "source": [
    "def lcu(A):\n",
    "    LCU = qml.pauli_decompose(A)\n",
    "    coeff, op = LCU.terms()\n",
    "    norm_factor = sum(abs(coeff))\n",
    "    norm_coeff = (np.sqrt(coeff) / np.linalg.norm(np.sqrt(coeff)))\n",
    "    return norm_coeff, op, norm_factor\n",
    "\n",
    "def lcu_reduction(coeff, op, N): # extract N top terms\n",
    "    idx = np.argsort(coeff)[-N:][::-1]\n",
    "    coeff_red = [coeff[i] for i in idx]\n",
    "    op_red = [op[i] for i in idx]\n",
    "    norm_factor = sum(abs(op_red))\n",
    "    norm_coeff_red = (np.sqrt(op_red) / np.linalg.norm(np.sqrt(op_red)))\n",
    "    return norm_coeff_red, op_red, norm_factor\n",
    "\n",
    "def init_config(A, coeff_red, op_red, norm_factor):\n",
    "    n_control = int(math.log2(len(coeff_red)))\n",
    "    n_target = int(math.log2(A.shape[0]))\n",
    "    return n_control, n_target\n",
    "\n",
    "def get_basis_state(n_qubits):\n",
    "    return [list(state) for state in product([0, 1], repeat=n_qubits)]\n",
    "\n",
    "def init_state(iter_num, input_coeff, n_target):\n",
    "    if iter_num==0:\n",
    "        for i in reg['target']:\n",
    "            qml.Hadamard(i)\n",
    "    else:\n",
    "        base = get_basis_state(n_target)\n",
    "        qml.Superposition(input_coeff, base, reg['target'], work_wire=reg['super_work'])\n",
    "\n",
    "def block_encoding(coeff, op):\n",
    "    qml.StatePrep(coeff, wires=reg['control'])\n",
    "    qml.Select(op, control=reg['control'])\n",
    "    qml.adjoint(qml.StatePrep(coeff, wires=reg['control']))\n",
    "\n",
    "def zero_projector(n_qubits, measured_wires, outcomes):\n",
    "    return [\n",
    "        i for i in range(2 ** n_qubits)\n",
    "        if all(format(i, f'0{n_qubits}b')[wire] == str(outcome) \n",
    "               for wire, outcome in zip(measured_wires, outcomes))]\n",
    "\n",
    "def get_next_vec(vec, reg):\n",
    "    proj_idx = zero_projector(n_tot, measured_wires=reg.tolist(), outcomes=np.zeros(len(reg), dtype=int).tolist())\n",
    "    proj = np.array([vec[i] for i in proj_idx]) # project onto |0> in the control qubit\n",
    "    proj = proj[0::2] # effectively remove the auxiliary qubit\n",
    "    proj_norm_coeff = np.linalg.norm(proj)\n",
    "    proj_norm = proj / proj_norm_coeff\n",
    "    # iter_num +=1\n",
    "    return proj_norm_coeff, np.real(proj), np.real(proj_norm)"
   ]
  },
  {
   "cell_type": "code",
   "execution_count": 64,
   "id": "403ca69d-a143-411b-be49-c5684f5b08d5",
   "metadata": {},
   "outputs": [],
   "source": [
    "coeff, op, norm_factor = lcu(A)\n",
    "n_control, n_target = init_config(A, coeff, op, norm_factor)\n",
    "n_tot = wires=n_control+n_target+1\n",
    "scaling_factor = sum(abs(coeff))\n",
    "\n",
    "dev = qml.device(\"default.qubit\", n_tot) \n",
    "reg = qml.registers({\"control\": n_control, \"target\": n_target, \"super_work\":1}) \n",
    "op = [qml.map_wires(op_elem, {i: i + n_control for i in range(n_target)}) for op_elem in op]\n",
    "\n",
    "@qml.qnode(dev)\n",
    "def power_circuit(A, iter_num, coeff, op, input_coeff, n_target):\n",
    "    init_state(iter_num, input_coeff, n_target)\n",
    "    block_encoding(coeff, op)\n",
    "    return qml.expval(qml.Hermitian(A, wires=reg['target'])), qml.state()"
   ]
  },
  {
   "cell_type": "code",
   "execution_count": 98,
   "id": "d0edc18d-5b39-4991-af84-bd5d9ab3c087",
   "metadata": {},
   "outputs": [],
   "source": [
    "def power_method(A, iter_target=5):\n",
    "    iter_num = 0\n",
    "    input_coeff = 0\n",
    "    proj_norm_coeffs = []\n",
    "    vals = []\n",
    "    vecs = []\n",
    "    \n",
    "    while(iter_num<iter_target):\n",
    "        val, vec = power_circuit(A, iter_num, coeff, op, input_coeff, n_target)\n",
    "        proj_norm_coeff, proj, proj_norm = get_next_vec(vec, reg['control'])\n",
    "        \n",
    "        if iter_num!=1:\n",
    "            proj_norm_coeffs.append(proj_norm_coeff)\n",
    "            \n",
    "        vec = np.prod(proj_norm_coeffs) * proj\n",
    "        vecs.append(vec)\n",
    "        vals.append((vec.T @ (A @ vec)) / (vec.T @ vec)) # rayleigh coeff\n",
    "        \n",
    "        # updates for the next iteration\n",
    "        iter_num += 1\n",
    "        input_coeff = proj_norm\n",
    "    return vals[-1], vecs[-1]"
   ]
  },
  {
   "cell_type": "code",
   "execution_count": 107,
   "id": "051e87e5-edf8-46fd-8ab5-098322d76371",
   "metadata": {},
   "outputs": [
    {
     "data": {
      "text/plain": [
       "(0.75, array([0.3125, 0.3125, 0.3125, 0.3125]))"
      ]
     },
     "execution_count": 107,
     "metadata": {},
     "output_type": "execute_result"
    }
   ],
   "source": [
    "power_method(A,2)"
   ]
  },
  {
   "cell_type": "code",
   "execution_count": null,
   "id": "59648253-0fd4-49ad-9d98-e11cb774dbd5",
   "metadata": {},
   "outputs": [],
   "source": []
  }
 ],
 "metadata": {
  "kernelspec": {
   "display_name": "Python 3 (ipykernel)",
   "language": "python",
   "name": "python3"
  },
  "language_info": {
   "codemirror_mode": {
    "name": "ipython",
    "version": 3
   },
   "file_extension": ".py",
   "mimetype": "text/x-python",
   "name": "python",
   "nbconvert_exporter": "python",
   "pygments_lexer": "ipython3",
   "version": "3.10.0"
  }
 },
 "nbformat": 4,
 "nbformat_minor": 5
}
