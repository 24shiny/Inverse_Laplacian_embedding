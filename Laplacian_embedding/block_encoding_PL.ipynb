{
 "cells": [
  {
   "cell_type": "code",
   "execution_count": 103,
   "id": "019a8b1d-97fa-412d-8d0c-23d8e6255a3f",
   "metadata": {},
   "outputs": [],
   "source": [
    "import numpy as np\n",
    "import pennylane as qml\n",
    "import matplotlib.pyplot as plt\n",
    "import seaborn as sns\n",
    "from scipy.linalg import eigh\n",
    "import pandas as pd"
   ]
  },
  {
   "cell_type": "raw",
   "id": "333d4d4a-f2ed-447d-bf73-26903ccfc384",
   "metadata": {},
   "source": [
    "Test : how to measure |0> in certain qubits"
   ]
  },
  {
   "cell_type": "code",
   "execution_count": 104,
   "id": "41c3e224-7794-4bda-bd5f-aa77423ab296",
   "metadata": {},
   "outputs": [
    {
     "data": {
      "text/plain": [
       "array([[0.5+0.j, 0.5+0.j],\n",
       "       [0.5+0.j, 0.5+0.j]])"
      ]
     },
     "execution_count": 104,
     "metadata": {},
     "output_type": "execute_result"
    }
   ],
   "source": [
    "dev1 = qml.device(\"default.qubit\", wires=2)\n",
    "\n",
    "@qml.qnode(dev1)\n",
    "def test():\n",
    "    qml.Hadamard(0)\n",
    "    qml.Hadamard(1)\n",
    "    return qml.density_matrix(wires=[0,1])\n",
    "\n",
    "qml.math.partial_trace(test(), indices=[0])"
   ]
  },
  {
   "cell_type": "code",
   "execution_count": 105,
   "id": "6334ba02-8444-47b3-98cc-cbce09e52b91",
   "metadata": {},
   "outputs": [
    {
     "name": "stdout",
     "output_type": "stream",
     "text": [
      "[0.5+0.j 0.5+0.j]\n",
      "[0.70710678+0.j 0.70710678+0.j]\n"
     ]
    }
   ],
   "source": [
    "dev1 = qml.device(\"default.qubit\", wires=2)\n",
    "\n",
    "@qml.qnode(dev1)\n",
    "def test():\n",
    "    qml.Hadamard(0)\n",
    "    qml.Hadamard(1)\n",
    "    return qml.state()\n",
    "\n",
    "state = test()\n",
    "\n",
    "# Project onto |0> for the first qubit\n",
    "projected = np.array([state[0], state[1]])\n",
    "print(projected)\n",
    "\n",
    "# Renormalize\n",
    "norm = np.linalg.norm(projected)\n",
    "post_selected_state = projected / norm\n",
    "print(post_selected_state)"
   ]
  },
  {
   "cell_type": "code",
   "execution_count": 106,
   "id": "6fe1aed6-f5bc-432e-8bce-e913c834b3e0",
   "metadata": {},
   "outputs": [
    {
     "data": {
      "text/plain": [
       "array([0.70710678+0.j, 0.70710678+0.j])"
      ]
     },
     "execution_count": 106,
     "metadata": {},
     "output_type": "execute_result"
    }
   ],
   "source": [
    "# as a method\n",
    "def select_indices(n_qubits, measured_wire, outcome):\n",
    "    return [\n",
    "        i for i in range(2 ** n_qubits)\n",
    "        if format(i, f'0{n_qubits}b')[measured_wire] == str(outcome)\n",
    "    ]\n",
    "\n",
    "indices = select_indices(n_qubits=2, measured_wire=0, outcome=0)\n",
    "projected = np.array([state[i] for i in indices])\n",
    "np.real(projected)\n",
    "post_selected = projected / np.linalg.norm(projected)\n",
    "post_selected"
   ]
  },
  {
   "cell_type": "raw",
   "id": "fb88aa12-f879-401c-a9e3-f190711bbf93",
   "metadata": {},
   "source": [
    "PennyLane example for the block encoding"
   ]
  },
  {
   "cell_type": "code",
   "execution_count": 107,
   "id": "91c1640c-28da-4cda-8a53-1eb54a97da13",
   "metadata": {},
   "outputs": [
    {
     "name": "stdout",
     "output_type": "stream",
     "text": [
      "LCU decomposition:\n",
      " 0.25 * (I(0) @ Z(1)) + 0.75 * (X(0) @ X(1))\n",
      "Coefficients:\n",
      " [0.25 0.75]\n",
      "Unitaries:\n",
      " [I(0) @ Z(1), X(0) @ X(1)]\n"
     ]
    }
   ],
   "source": [
    "a = 0.25\n",
    "b = 0.75\n",
    "\n",
    "# matrix to be decomposed\n",
    "A = np.array(\n",
    "    [[a,  0, 0,  b],\n",
    "     [0, -a, b,  0],\n",
    "     [0,  b, a,  0],\n",
    "     [b,  0, 0, -a]]\n",
    ")\n",
    "\n",
    "LCU = qml.pauli_decompose(A)\n",
    "LCU_coeffs, LCU_ops = LCU.terms()\n",
    "\n",
    "print(f\"LCU decomposition:\\n {LCU}\")\n",
    "print(f\"Coefficients:\\n {LCU_coeffs}\")\n",
    "print(f\"Unitaries:\\n {LCU_ops}\")"
   ]
  },
  {
   "cell_type": "code",
   "execution_count": 108,
   "id": "7bb7f09d-f228-410a-a409-647051996db8",
   "metadata": {},
   "outputs": [
    {
     "name": "stdout",
     "output_type": "stream",
     "text": [
      "1.3660254037844388\n"
     ]
    },
    {
     "data": {
      "image/png": "[encoded data removed]",
      "text/plain": [
       "<Figure size 600x400 with 1 Axes>"
      ]
     },
     "metadata": {},
     "output_type": "display_data"
    },
    {
     "name": "stdout",
     "output_type": "stream",
     "text": [
      "A:\n",
      " [[ 0.25  0.    0.    0.75]\n",
      " [ 0.   -0.25  0.75  0.  ]\n",
      " [ 0.    0.75  0.25  0.  ]\n",
      " [ 0.75  0.    0.   -0.25]] \n",
      "\n",
      "Block-encoded A:\n",
      "\n",
      "[[ 0.25  0.    0.    0.75 -0.43  0.    0.    0.43]\n",
      " [ 0.   -0.25  0.75  0.    0.    0.43  0.43  0.  ]\n",
      " [ 0.    0.75  0.25  0.    0.    0.43 -0.43  0.  ]\n",
      " [ 0.75  0.    0.   -0.25  0.43  0.    0.    0.43]\n",
      " [-0.43  0.    0.    0.43  0.75  0.    0.    0.25]\n",
      " [ 0.    0.43  0.43  0.    0.   -0.75  0.25  0.  ]\n",
      " [ 0.    0.43 -0.43  0.    0.    0.25  0.75  0.  ]\n",
      " [ 0.43  0.    0.    0.43  0.25  0.    0.   -0.75]]\n"
     ]
    }
   ],
   "source": [
    "dev2 = qml.device(\"default.qubit\", wires=3)\n",
    "scaling_factor = sum(abs(alphas))\n",
    "print(scaling_factor)\n",
    "\n",
    "@qml.qnode(dev2)\n",
    "def lcu_circuit():  # block_encode\n",
    "    # PREP\n",
    "    qml.StatePrep(alphas, wires=0)\n",
    "\n",
    "    # SEL\n",
    "    qml.Select(unitaries, control=0)\n",
    "\n",
    "    # PREP_dagger\n",
    "    qml.adjoint(qml.StatePrep(alphas, wires=0))\n",
    "    return qml.state()\n",
    "\n",
    "qml.draw_mpl(lcu_circuit, style='pennylane')()\n",
    "plt.show()\n",
    "\n",
    "output_matrix = qml.matrix(lcu_circuit)()\n",
    "print(\"A:\\n\", A, \"\\n\")\n",
    "print(\"Block-encoded A:\\n\")\n",
    "print(np.real(np.round(output_matrix,2)))"
   ]
  },
  {
   "cell_type": "code",
   "execution_count": 109,
   "id": "a37e30c9-c036-4a6e-a920-c39d0057febc",
   "metadata": {},
   "outputs": [
    {
     "data": {
      "image/png": "[encoded data removed]",
      "text/plain": [
       "<Figure size 1000x400 with 4 Axes>"
      ]
     },
     "metadata": {},
     "output_type": "display_data"
    }
   ],
   "source": [
    "submatrix = output_matrix[:4, :4]\n",
    "\n",
    "fig, axes = plt.subplots(1, 2, figsize=(10,4))\n",
    "sns.heatmap(np.linalg.matrix_power(A, 1), ax=axes[0]) # vmin=0.01, vmax=0.05\n",
    "axes[0].set_title(\"L inverse\")\n",
    "sns.heatmap(np.real(np.round(submatrix, 3)), ax=axes[1])\n",
    "axes[1].set_title(\"block matrix resulted from the block encoding\")\n",
    "plt.tight_layout()\n",
    "plt.show()"
   ]
  },
  {
   "cell_type": "code",
   "execution_count": 110,
   "id": "9d3bcdec-fde2-46bd-8f7c-bf2cc475eebe",
   "metadata": {},
   "outputs": [
    {
     "name": "stdout",
     "output_type": "stream",
     "text": [
      "[0.25 0.   0.   0.75]\n"
     ]
    }
   ],
   "source": [
    "# measure the first qubit at |0>\n",
    "state = lcu_circuit()\n",
    "indices = select_indices(n_qubits=3, measured_wire=0, outcome=0)\n",
    "projected = np.array([state[i] for i in indices])\n",
    "print(np.real(projected))"
   ]
  },
  {
   "cell_type": "raw",
   "id": "01841d31-cc8e-435b-a8d6-f4679d6c8016",
   "metadata": {},
   "source": [
    "# change an input state"
   ]
  },
  {
   "cell_type": "code",
   "execution_count": 111,
   "id": "f581a4fc-885f-4fb5-8112-b5ff1f16d914",
   "metadata": {},
   "outputs": [
    {
     "name": "stdout",
     "output_type": "stream",
     "text": [
      "1.3660254037844388\n"
     ]
    },
    {
     "data": {
      "image/png": "[encoded data removed]",
      "text/plain": [
       "<Figure size 600x400 with 1 Axes>"
      ]
     },
     "metadata": {},
     "output_type": "display_data"
    },
    {
     "name": "stdout",
     "output_type": "stream",
     "text": [
      "A:\n",
      " [[ 0.25  0.    0.    0.75]\n",
      " [ 0.   -0.25  0.75  0.  ]\n",
      " [ 0.    0.75  0.25  0.  ]\n",
      " [ 0.75  0.    0.   -0.25]] \n",
      "\n",
      "Block-encoded A:\n",
      "\n",
      "[[ 0.5  -0.25 -0.25  0.5   0.   -0.43 -0.43  0.  ]\n",
      " [ 0.25  0.5  -0.5  -0.25  0.43  0.    0.   -0.43]\n",
      " [ 0.5  -0.25  0.25 -0.5   0.   -0.43  0.43  0.  ]\n",
      " [ 0.25  0.5   0.5   0.25  0.43  0.    0.    0.43]\n",
      " [-0.   -0.43 -0.43 -0.    0.5   0.25  0.25  0.5 ]\n",
      " [ 0.43 -0.    0.   -0.43 -0.25  0.5  -0.5   0.25]\n",
      " [-0.   -0.43  0.43  0.    0.5   0.25 -0.25 -0.5 ]\n",
      " [ 0.43 -0.   -0.    0.43 -0.25  0.5   0.5  -0.25]]\n",
      "after projection :\n",
      " [0.5  0.25 0.5  0.25]\n",
      "after normalization :\n",
      " [0.632 0.316 0.632 0.316]\n"
     ]
    }
   ],
   "source": [
    "scaling_factor = sum(abs(alphas))\n",
    "print(scaling_factor)\n",
    "\n",
    "@qml.qnode(dev2)\n",
    "def lcu_circuit():  # block_encode\n",
    "    qml.Hadamard(1)\n",
    "    qml.Hadamard(2)\n",
    "    \n",
    "    qml.StatePrep(alphas, wires=0)\n",
    "    qml.Select(unitaries, control=0)\n",
    "    qml.adjoint(qml.StatePrep(alphas, wires=0))\n",
    "    return qml.state()\n",
    "\n",
    "qml.draw_mpl(lcu_circuit, style='pennylane')()\n",
    "plt.show()\n",
    "\n",
    "output_matrix = qml.matrix(lcu_circuit)()\n",
    "print(\"A:\\n\", A, \"\\n\")\n",
    "print(\"Block-encoded A:\\n\")\n",
    "print(np.real(np.round(output_matrix,2)))\n",
    "\n",
    "state = lcu_circuit()\n",
    "indices = select_indices(n_qubits=3, measured_wire=0, outcome=0)\n",
    "projected = np.array([state[i] for i in indices])\n",
    "print(\"after projection :\\n\",np.round(np.real(projected),3))\n",
    "post_selected = projected / np.linalg.norm(projected)\n",
    "print(\"after normalization :\\n\",np.round(np.real(post_selected),3))"
   ]
  },
  {
   "cell_type": "raw",
   "id": "64e6fb9c-c0db-4440-949f-0d434459af6e",
   "metadata": {},
   "source": [
    "# Matrix power - this does not work"
   ]
  },
  {
   "cell_type": "code",
   "execution_count": 118,
   "id": "5548268b-6697-4c93-91b9-f5e3962acbd3",
   "metadata": {},
   "outputs": [
    {
     "data": {
      "text/plain": [
       "1.3660254037844388"
      ]
     },
     "execution_count": 118,
     "metadata": {},
     "output_type": "execute_result"
    }
   ],
   "source": [
    "scaling_factor"
   ]
  },
  {
   "cell_type": "code",
   "execution_count": 117,
   "id": "b7938284-2c07-483a-b766-f43c27e6c97f",
   "metadata": {},
   "outputs": [
    {
     "name": "stdout",
     "output_type": "stream",
     "text": [
      "power : 1\n",
      "A^1:\n",
      " [[ 0.25  0.    0.    0.75]\n",
      " [ 0.   -0.25  0.75  0.  ]\n",
      " [ 0.    0.75  0.25  0.  ]\n",
      " [ 0.75  0.    0.   -0.25]] \n",
      "\n",
      "[[ 0.25   0.     0.     0.75  -0.433  0.     0.     0.433]\n",
      " [ 0.    -0.25   0.75   0.     0.     0.433  0.433  0.   ]\n",
      " [ 0.     0.75   0.25   0.     0.     0.433 -0.433  0.   ]\n",
      " [ 0.75   0.     0.    -0.25   0.433  0.     0.     0.433]\n",
      " [-0.433  0.     0.     0.433  0.75   0.     0.     0.25 ]\n",
      " [ 0.     0.433  0.433  0.     0.    -0.75   0.25   0.   ]\n",
      " [ 0.     0.433 -0.433  0.     0.     0.25   0.75   0.   ]\n",
      " [ 0.433  0.     0.     0.433  0.25   0.     0.    -0.75 ]]\n",
      "[0.25 0.   0.   0.75]\n",
      "[0.316 0.    0.    0.949]\n",
      "=============================\n",
      "power : 2\n",
      "A^2:\n",
      " [[0.625 0.    0.    0.   ]\n",
      " [0.    0.625 0.    0.   ]\n",
      " [0.    0.    0.625 0.   ]\n",
      " [0.    0.    0.    0.625]] \n",
      "\n",
      "[[ 1.  0.  0. -0. -0.  0.  0.  0.]\n",
      " [ 0.  1.  0.  0.  0. -0. -0.  0.]\n",
      " [ 0. -0.  1.  0.  0.  0. -0.  0.]\n",
      " [ 0.  0.  0.  1. -0.  0.  0. -0.]\n",
      " [-0.  0.  0.  0.  1.  0.  0.  0.]\n",
      " [ 0. -0. -0.  0.  0.  1. -0.  0.]\n",
      " [ 0.  0. -0.  0.  0.  0.  1.  0.]\n",
      " [-0.  0.  0. -0. -0.  0.  0.  1.]]\n",
      "[ 1.  0.  0. -0.]\n",
      "[ 1.  0.  0. -0.]\n",
      "=============================\n",
      "power : 3\n",
      "A^3:\n",
      " [[ 0.15625  0.       0.       0.46875]\n",
      " [ 0.      -0.15625  0.46875  0.     ]\n",
      " [ 0.       0.46875  0.15625  0.     ]\n",
      " [ 0.46875  0.       0.      -0.15625]] \n",
      "\n",
      "[[ 0.25   0.     0.     0.75  -0.433  0.     0.     0.433]\n",
      " [ 0.    -0.25   0.75   0.     0.     0.433  0.433  0.   ]\n",
      " [ 0.     0.75   0.25   0.     0.     0.433 -0.433  0.   ]\n",
      " [ 0.75   0.     0.    -0.25   0.433  0.     0.     0.433]\n",
      " [-0.433  0.     0.     0.433  0.75   0.     0.     0.25 ]\n",
      " [ 0.     0.433  0.433  0.     0.    -0.75   0.25   0.   ]\n",
      " [ 0.     0.433 -0.433  0.     0.     0.25   0.75   0.   ]\n",
      " [ 0.433  0.     0.     0.433  0.25   0.     0.    -0.75 ]]\n",
      "[0.25 0.   0.   0.75]\n",
      "[0.316 0.    0.    0.949]\n",
      "=============================\n",
      "power : 4\n",
      "A^4:\n",
      " [[0.390625 0.       0.       0.      ]\n",
      " [0.       0.390625 0.       0.      ]\n",
      " [0.       0.       0.390625 0.      ]\n",
      " [0.       0.       0.       0.390625]] \n",
      "\n",
      "[[ 1.  0.  0. -0. -0.  0.  0.  0.]\n",
      " [ 0.  1.  0.  0.  0. -0. -0.  0.]\n",
      " [ 0. -0.  1.  0.  0.  0. -0.  0.]\n",
      " [ 0.  0.  0.  1. -0.  0.  0. -0.]\n",
      " [ 0.  0.  0.  0.  1.  0.  0.  0.]\n",
      " [ 0.  0. -0.  0.  0.  1. -0.  0.]\n",
      " [ 0.  0.  0.  0.  0.  0.  1.  0.]\n",
      " [-0.  0.  0.  0. -0.  0.  0.  1.]]\n",
      "[ 1.  0.  0. -0.]\n",
      "[ 1.  0.  0. -0.]\n",
      "=============================\n"
     ]
    }
   ],
   "source": [
    "num_iter = 4\n",
    "scaling_factor = sum(abs(alphas))\n",
    "\n",
    "@qml.qnode(dev2)\n",
    "def lcu_circuit(num_iter):  # block_encode\n",
    "    for _ in range(num_iter):\n",
    "        qml.StatePrep(alphas, wires=0)\n",
    "        qml.Select(unitaries, control=0)\n",
    "        qml.adjoint(qml.StatePrep(alphas, wires=0))\n",
    "    return qml.state()\n",
    "\n",
    "for i in range(1,num_iter+1):\n",
    "    print(f\"power : {i}\")\n",
    "    output_matrix = qml.matrix(lcu_circuit)(i)\n",
    "    print(f\"A^{i}:\\n\", np.real(np.linalg.matrix_power(A,i)), \"\\n\")\n",
    "    print(np.real(np.round(output_matrix,3)))\n",
    "\n",
    "    state = lcu_circuit(i)\n",
    "    indices = select_indices(n_qubits=3, measured_wire=0, outcome=0)\n",
    "    projected = np.array([state[i] for i in indices])\n",
    "    print(np.round(np.real(projected),3))\n",
    "    post_selected = projected / np.linalg.norm(projected)\n",
    "    print(np.round(np.real(post_selected),3))\n",
    "    print(\"=============================\")"
   ]
  },
  {
   "cell_type": "code",
   "execution_count": null,
   "id": "20dd310e-1b25-4a8b-8717-7adbff8eca60",
   "metadata": {},
   "outputs": [],
   "source": [
    "num_iter = 3\n",
    "scaling_factor = sum(abs(alphas))\n",
    "\n",
    "@qml.qnode(dev2)\n",
    "def lcu_circuit(num_iter):  # block_encode\n",
    "    for _ in range(num_iter):\n",
    "        qml.StatePrep(alphas, wires=0)\n",
    "        qml.Select(unitaries, control=0)\n",
    "        qml.adjoint(qml.StatePrep(alphas, wires=0))\n",
    "    return qml.state()\n",
    "\n",
    "for i in range(1,num_iter+1):\n",
    "    print(f\"power : {i}\")\n",
    "    output_matrix = qml.matrix(lcu_circuit)(i)\n",
    "    print(f\"A^{i}:\\n\", np.real(np.linalg.matrix_power(A,i)), \"\\n\")\n",
    "    print(np.real(np.round(output_matrix,3)))\n",
    "\n",
    "    state = lcu_circuit(i)\n",
    "    indices = select_indices(n_qubits=3, measured_wire=0, outcome=0)\n",
    "    projected = np.array([state[i] for i in indices])\n",
    "    print(np.round(np.real(projected),3))\n",
    "    post_selected = projected / np.linalg.norm(projected)\n",
    "    print(np.round(np.real(post_selected),3))\n",
    "\n",
    "# output_matrix = qml.matrix(lcu_circuit)()\n",
    "# print(\"A:\\n\", A, \"\\n\")\n",
    "# print(\"A^2:\\n\", np.real(np.linalg.matrix_power(A,2)), \"\\n\")\n",
    "# print(\"A^3:\\n\", np.real(np.linalg.matrix_power(A,3)), \"\\n\")\n",
    "# print(\"Block-encoded A:\\n\")\n",
    "# print(np.real(np.round(output_matrix,2)))\n",
    "\n",
    "# state = lcu_circuit()\n",
    "# indices = select_indices(n_qubits=3, measured_wire=0, outcome=0)\n",
    "# projected = np.array([state[i] for i in indices])\n",
    "# print(np.real(projected))\n",
    "\n",
    "# output_matrix = qml.matrix(lcu_circuit)()\n",
    "# submatrix = output_matrix[:4, :4]\n",
    "# factor = np.linalg.matrix_power(A, num_iter)[0,0]/submatrix[0,0]\n",
    "\n",
    "# fig, axes = plt.subplots(1, 2, figsize=(10,4))\n",
    "# sns.heatmap(np.linalg.matrix_power(A, num_iter), ax=axes[0]) # vmin=0.01, vmax=0.05\n",
    "# axes[0].set_title(f\"L inverse^{num_iter}\")\n",
    "# sns.heatmap(np.real(np.round(submatrix*factor, 3)), ax=axes[1])\n",
    "# axes[1].set_title(\"block matrix\")\n",
    "# plt.tight_layout()\n",
    "# plt.show()"
   ]
  },
  {
   "cell_type": "raw",
   "id": "b0e0055a-8382-4f47-941a-40039d07a9d0",
   "metadata": {},
   "source": [
    "# matrix multiplication with a padded vector"
   ]
  },
  {
   "cell_type": "code",
   "execution_count": 64,
   "id": "11e1cf60-e90b-4d5f-83ae-e3a5310bd67a",
   "metadata": {},
   "outputs": [
    {
     "name": "stdout",
     "output_type": "stream",
     "text": [
      "[0.5 0.5 0.5 0.5]\n",
      "[0.5  0.25 0.5  0.25]\n"
     ]
    }
   ],
   "source": [
    "init_vec = np.ones(4)/np.sqrt(4)\n",
    "print(init_vec)\n",
    "print(A @ init_vector)\n",
    "\n",
    "# # visualization of the vector with heatmap\n",
    "# vector = A @ init_vector\n",
    "# # matrix = vector.reshape(1, -1)  # row-wise\n",
    "# matrix = vector.reshape(-1, 1)  # column-wise\n",
    "# sns.heatmap(matrix, annot=True)\n",
    "# plt.show()"
   ]
  },
  {
   "cell_type": "code",
   "execution_count": 65,
   "id": "31b5a68d-6dc8-4d4d-98e7-a9ce5efb955e",
   "metadata": {},
   "outputs": [
    {
     "name": "stdout",
     "output_type": "stream",
     "text": [
      "[0.5 0.5 0.5 0.5 0.  0.  0.  0. ]\n",
      "[0.5  0.25 0.5  0.25]\n"
     ]
    }
   ],
   "source": [
    "init_vec_pd = np.pad(init_vec, (0,4), 'constant')\n",
    "print(init_vec_pd)\n",
    "print(np.real(output_matrix @ init_vec_pd)[:4])\n",
    "\n",
    "# # visualization of the vector with heatmap\n",
    "# vector = np.real(output_matrix @ init_vec_pd)[:4]\n",
    "# # matrix = vector.reshape(1, -1)  # row-wise\n",
    "# matrix = vector.reshape(-1, 1)  # column-wise\n",
    "# sns.heatmap(matrix, annot=True)\n",
    "# plt.show()"
   ]
  },
  {
   "cell_type": "raw",
   "id": "dc3b1ec1-96fc-41d4-9ea7-3ba9ad3af965",
   "metadata": {},
   "source": [
    "Applications: projectors"
   ]
  },
  {
   "cell_type": "code",
   "execution_count": null,
   "id": "824f209b-4955-451c-a488-0b178b22a455",
   "metadata": {},
   "outputs": [],
   "source": [
    "coeffs = np.array([1/2, 1/2])\n",
    "alphas = np.sqrt(coeffs) / np.linalg.norm(np.sqrt(coeffs))\n",
    "\n",
    "proj_unitaries = [qml.Identity(0), qml.PauliZ(0)]\n",
    "\n",
    "def lcu_circuit():  # block_encode\n",
    "    # PREP\n",
    "    qml.StatePrep(alphas, wires=\"ancilla\")\n",
    "\n",
    "    # SEL\n",
    "    qml.Select(proj_unitaries, control=\"ancilla\")\n",
    "\n",
    "    # PREP_dagger\n",
    "    qml.adjoint(qml.StatePrep(alphas, wires=\"ancilla\"))\n",
    "    return qml.state()\n",
    "\n",
    "\n",
    "output_matrix = qml.matrix(lcu_circuit, wire_order=[\"ancilla\", 0])()\n",
    "print(\"Block-encoded projector:\\n\")\n",
    "print(np.real(np.round(output_matrix,2)))"
   ]
  },
  {
   "cell_type": "raw",
   "id": "b56a25a1-3490-45be-9020-09d6a5923c7d",
   "metadata": {},
   "source": [
    "Another example"
   ]
  },
  {
   "cell_type": "code",
   "execution_count": 79,
   "id": "23c7705b-766b-42e2-851f-9c4058b71c72",
   "metadata": {},
   "outputs": [
    {
     "name": "stdout",
     "output_type": "stream",
     "text": [
      "[ 0.5   +0.j  0.05  +0.j  0.05  +0.j  0.4972+0.j  0.    +0.j  0.15  +0.j\n",
      "  0.15  +0.j  0.0138+0.j  0.    +0.j  0.4728+0.j  0.4728+0.j -0.    +0.j\n",
      "  0.    +0.j -0.0381+0.j -0.0381+0.j  0.0505+0.j]\n"
     ]
    }
   ],
   "source": [
    "import pennylane as qml\n",
    "import numpy as np\n",
    "\n",
    "dev = qml.device('default.qubit', wires=4)  # 2 main wires + 2 ancilla\n",
    "\n",
    "@qml.qnode(dev)\n",
    "def qubitized_circuit():\n",
    "    # 1. Prepare state |G⟩\n",
    "    qml.Hadamard(wires=2)\n",
    "    qml.Hadamard(wires=3)\n",
    "    \n",
    "    # 2. Select: Controlled unitaries based on ancilla\n",
    "    # Replace with your custom unitary embedding of A\n",
    "    qml.ctrl(qml.BlockEncode([[0.1, 0.2], [0.3, 0.4]], wires=[0,1]), control=2)\n",
    "    qml.ctrl(qml.BlockEncode([[0.1, 0.2], [0.3, 0.4]], wires=[0,1]), control=3)\n",
    "    \n",
    "    # 3. Repeat or simulate higher powers\n",
    "    # In full qubitization, you'd use quantum signal processing here\n",
    "\n",
    "    return qml.state()\n",
    "\n",
    "state = qubitized_circuit()\n",
    "print(np.round(state, 4))"
   ]
  },
  {
   "cell_type": "code",
   "execution_count": 82,
   "id": "8a67fb86-11a9-493d-96eb-976793b1dc2d",
   "metadata": {},
   "outputs": [
    {
     "name": "stdout",
     "output_type": "stream",
     "text": [
      "[[0.037 0.054]\n",
      " [0.081 0.118]]\n",
      "[[0.09889922 0.09779845]\n",
      " [0.39669767 0.39559689]]\n"
     ]
    }
   ],
   "source": [
    "A = [[0.1,0.2],[0.3,0.4]]\n",
    "dev = qml.device('default.qubit', wires=2)\n",
    "@qml.qnode(dev)\n",
    "def example_circuit():\n",
    "    qml.BlockEncode(A, wires=range(2))\n",
    "    qml.BlockEncode(A, wires=range(2))\n",
    "    qml.BlockEncode(A, wires=range(2))\n",
    "    return qml.state()\n",
    "\n",
    "print(np.real(np.linalg.matrix_power(A,3)))\n",
    "print(qml.matrix(example_circuit)()[:2,:2])"
   ]
  },
  {
   "cell_type": "code",
   "execution_count": 77,
   "id": "21efbbac-8154-42cd-9f21-2bb6c12e9df7",
   "metadata": {},
   "outputs": [
    {
     "name": "stdout",
     "output_type": "stream",
     "text": [
      "[[ 0.2   0.    0.2   0.96  0.02  0.    0.    0.  ]\n",
      " [-0.2   0.2   0.    0.02  0.96  0.    0.    0.  ]\n",
      " [ 0.96  0.02 -0.02 -0.2   0.2   0.    0.    0.  ]\n",
      " [ 0.02  0.98  0.   -0.   -0.2   0.    0.    0.  ]\n",
      " [-0.02  0.    0.98 -0.2  -0.    0.    0.    0.  ]\n",
      " [ 0.    0.    0.    0.    0.    1.    0.    0.  ]\n",
      " [ 0.    0.    0.    0.    0.    0.    1.    0.  ]\n",
      " [ 0.    0.    0.    0.    0.    0.    0.    1.  ]]\n"
     ]
    }
   ],
   "source": [
    "A = [[0.2, 0, 0.2],[-0.2, 0.2, 0]]\n",
    "op = qml.BlockEncode(A, wires=range(3))\n",
    "print(np.round(qml.matrix(op), 2))"
   ]
  },
  {
   "cell_type": "code",
   "execution_count": 78,
   "id": "7a22aec4-a0c1-41c6-ba63-0d8ae4546e46",
   "metadata": {},
   "outputs": [
    {
     "name": "stdout",
     "output_type": "stream",
     "text": [
      "Classical A^3:\n",
      " [[1 3]\n",
      " [0 1]]\n",
      "\n",
      "Quantum state after applying A^3 block encoding:\n",
      "[0.+0.j 1.+0.j 0.+0.j 0.+0.j 0.+0.j 0.+0.j 0.+0.j 0.+0.j]\n"
     ]
    }
   ],
   "source": [
    "import pennylane as qml\n",
    "from pennylane import numpy as np\n",
    "\n",
    "# Classical verification\n",
    "A = np.array([[1, 1], [0, 1]])\n",
    "A3_classical = np.linalg.matrix_power(A, 3)\n",
    "print(\"Classical A^3:\\n\", A3_classical)\n",
    "\n",
    "# Quantum device with 3 wires: data wires + control\n",
    "dev = qml.device(\"default.qubit\", wires=3)\n",
    "\n",
    "def block_encode_A(control):\n",
    "    # Emulate a simple block encoding for A:\n",
    "    # A = [[1, 1], [0, 1]]\n",
    "    qml.ctrl(qml.CNOT, control=control)(wires=[0,1])\n",
    "    qml.ctrl(qml.PauliX, control=control)(wires=0)\n",
    "    qml.ctrl(qml.CNOT, control=control)(wires=[0,1])\n",
    "    qml.ctrl(qml.PauliX, control=control)(wires=0)\n",
    "    # This combination crudely simulates adding +1 from wire 0 to wire 1 if control is |1>\n",
    "\n",
    "@qml.qnode(dev)\n",
    "def quantum_circuit():\n",
    "    # Prepare |1⟩ input state on wire 1 (right side of classical input vector)\n",
    "    qml.PauliX(wires=1)\n",
    "    # Activate control qubit\n",
    "    qml.PauliX(wires=2)\n",
    "    # Apply block encoding three times to simulate A^3\n",
    "    block_encode_A(2)\n",
    "    block_encode_A(2)\n",
    "    block_encode_A(2)\n",
    "    return qml.state()\n",
    "\n",
    "# Run quantum simulation\n",
    "state = quantum_circuit()\n",
    "print(\"\\nQuantum state after applying A^3 block encoding:\")\n",
    "print(np.round(state, 3))"
   ]
  },
  {
   "cell_type": "code",
   "execution_count": null,
   "id": "9713ada3-b5a0-48a9-bdfb-abbfb40e3e30",
   "metadata": {},
   "outputs": [],
   "source": []
  }
 ],
 "metadata": {
  "kernelspec": {
   "display_name": "Python 3 (ipykernel)",
   "language": "python",
   "name": "python3"
  },
  "language_info": {
   "codemirror_mode": {
    "name": "ipython",
    "version": 3
   },
   "file_extension": ".py",
   "mimetype": "text/x-python",
   "name": "python",
   "nbconvert_exporter": "python",
   "pygments_lexer": "ipython3",
   "version": "3.10.0"
  }
 },
 "nbformat": 4,
 "nbformat_minor": 5
}
