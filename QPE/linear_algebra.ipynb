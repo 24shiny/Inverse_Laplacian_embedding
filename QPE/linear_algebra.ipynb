{
 "cells": [
  {
   "cell_type": "code",
   "execution_count": 5,
   "id": "7a6d45eb-a8ef-45f7-98aa-50179673d92d",
   "metadata": {},
   "outputs": [],
   "source": [
    "from sympy import Matrix\n",
    "import numpy as np"
   ]
  },
  {
   "cell_type": "code",
   "execution_count": null,
   "id": "bcd449b1-95a0-4f9b-a019-0ec19f96c16a",
   "metadata": {},
   "outputs": [],
   "source": [
    "# linear independence\n",
    "Define the vectors as columns in a matrix\n",
    "vectors = [\n",
    "    [1, 2, 3],\n",
    "    [4, 5, 6],\n",
    "    [7, 8, 9]\n",
    "]\n",
    "\n",
    "matrix = Matrix(vectors)\n",
    "\n",
    "# Calculate the rank of the matrix\n",
    "rank = matrix.rank()\n",
    "\n",
    "# Check if the rank is equal to the number of vectors\n",
    "num_vectors = len(vectors)\n",
    "if rank == num_vectors:\n",
    "    print(\"The vectors are linearly independent.\")\n",
    "else:\n",
    "    print(\"The vectors are linearly dependent.\")"
   ]
  },
  {
   "cell_type": "code",
   "execution_count": null,
   "id": "6414c728-6ace-4a65-80a3-62de092bd6ef",
   "metadata": {},
   "outputs": [],
   "source": [
    "# unitarity\n",
    "def is_unitary(matrix): # unitarity check\n",
    "    m_dagger = np.conjugate(matrix.transpose()) \n",
    "    identity = np.eye(matrix.shape[0])\n",
    "    return np.allclose(np.dot(matrix, m_dagger), identity) "
   ]
  },
  {
   "cell_type": "code",
   "execution_count": 6,
   "id": "8c3697bc-da7a-41b2-9665-6ff306cb84db",
   "metadata": {},
   "outputs": [
    {
     "name": "stdout",
     "output_type": "stream",
     "text": [
      "[1. 1.]\n"
     ]
    }
   ],
   "source": [
    "# Define an invertible matrix P (basis transformation matrix)\n",
    "# P = np.array([[1, 2, 1, 3], [4, 3, 2, 1], [2, 1, 3, 4], [3, 4, 2, 1]])\n",
    "P = np.array([[1,0,0,1], [1,0,0,-1], [0,1,1,0], [0,1,-1,0]] ) # Bell style\n",
    "P_inv = np.linalg.inv(P)\n",
    "\n",
    "# Perform the similarity transformation\n",
    "B = P_inv @ np.diag(p_exp) @ P\n",
    "\n",
    "# Print the transformed matrix\n",
    "print(\"Transformed matrix in the new basis:\")\n",
    "print(B)\n",
    "\n",
    "# Check that the eigenvalues remain the same\n",
    "original_eigenvalues = np.linalg.eigvals(np.diag(p_exp))\n",
    "transformed_eigenvalues = np.linalg.eigvals(B)\n",
    "\n",
    "print(\"\\nOriginal eigenvalues:\")\n",
    "print(original_eigenvalues)\n",
    "\n",
    "print(\"\\nEigenvalues after basis transformation:\")\n",
    "print(transformed_eigenvalues)"
   ]
  },
  {
   "cell_type": "code",
   "execution_count": null,
   "id": "9c19ebca-b5df-4b07-8c70-6dbc94370332",
   "metadata": {},
   "outputs": [],
   "source": [
    "import numpy as np\n",
    "\n",
    "def gram_schmidt_complex(A):\n",
    "    \"\"\"Applies Gram-Schmidt orthogonalization to a matrix with complex elements.\"\"\"\n",
    "    m, n = A.shape\n",
    "    Q = np.zeros((m, n), dtype=complex)\n",
    "\n",
    "    for i in range(n):\n",
    "        # Start with the i-th column of A\n",
    "        v = A[:, i]\n",
    "\n",
    "        # Subtract projections onto previously computed basis vectors\n",
    "        for j in range(i):\n",
    "            projection = np.dot(Q[:, j].conj().T, v) * Q[:, j]\n",
    "            v -= projection\n",
    "\n",
    "        # Normalize the vector using the Hermitian norm\n",
    "        Q[:, i] = v / np.linalg.norm(v)\n",
    "\n",
    "    return Q\n",
    "\n",
    "# Example complex matrix\n",
    "A = np.array([\n",
    "    [1 + 1j, 2 - 1j, 3 + 0.5j],\n",
    "    [3 - 2j, 1 + 0.5j, 2 - 1j],"
   ]
  },
  {
   "cell_type": "code",
   "execution_count": null,
   "id": "9befc440-bf19-49e3-bec1-7f8c18a85d97",
   "metadata": {},
   "outputs": [],
   "source": [
    "import numpy as np\n",
    "from scipy.linalg import ishermitian\n",
    "A = np.arange(9).reshape(3, 3)\n",
    "A = A + A.T\n",
    "ishermitian(A)\n",
    "A = np.array([[1., 2. + 3.j], [2. - 3.j, 4.]])\n",
    "ishermitian(A)\n",
    "Ac = np.array([[1. + 1.j, 3.j], [3.j, 2.]])\n",
    "ishermitian(Ac)  # not Hermitian but symmetric\n",
    "Af = np.array([[0, 1 + 1j], [1 - (1+1e-12)*1j, 0]])\n",
    "ishermitian(Af)\n",
    "ishermitian(Af, atol=5e-11) # almost hermitian with atol"
   ]
  },
  {
   "cell_type": "code",
   "execution_count": null,
   "id": "65a4a257-f9de-4b20-ac24-417537c1d1a2",
   "metadata": {},
   "outputs": [],
   "source": [
    "def is_orthogonal(A):\n",
    "    \"\"\"Checks if a matrix A is orthogonal (A^T A = I) or unitary (A† A = I for complex cases).\"\"\"\n",
    "    I = np.eye(A.shape[0])  # Identity matrix of same size\n",
    "    orthogonal_check = np.allclose(A.T @ A, I)  # For real matrices\n",
    "    unitary_check = np.allclose(A.conj().T @ A, I)  # For complex matrices\n",
    "    \n",
    "    return orthogonal_check, unitary_check\n",
    "\n",
    "# Example real orthogonal matrix\n",
    "A_real = np.array([[0, 1], [-1, 0]])  # Rotation matrix\n",
    "\n",
    "# Example complex unitary matrix\n",
    "A_complex = np.array([[1/np.sqrt(2), 1j/np.sqrt(2)], [1/np.sqrt(2), -1j/np.sqrt(2)]])  # Unitary matrix\n",
    "\n",
    "# Check orthogonality\n",
    "real_orthogonal, real_unitary = is_orthogonal(A_real)\n",
    "complex_orthogonal, complex_unitary = is_orthogonal(A_complex)\n",
    "\n",
    "print(\"Is real matrix orthogonal?\", real_orthogonal)\n",
    "print(\"Is complex matrix unitary?\", complex_unitary)"
   ]
  }
 ],
 "metadata": {
  "kernelspec": {
   "display_name": "Python 3 (ipykernel)",
   "language": "python",
   "name": "python3"
  },
  "language_info": {
   "codemirror_mode": {
    "name": "ipython",
    "version": 3
   },
   "file_extension": ".py",
   "mimetype": "text/x-python",
   "name": "python",
   "nbconvert_exporter": "python",
   "pygments_lexer": "ipython3",
   "version": "3.10.0"
  }
 },
 "nbformat": 4,
 "nbformat_minor": 5
}
